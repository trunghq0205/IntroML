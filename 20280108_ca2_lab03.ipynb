{
  "cells": [
    {
      "cell_type": "markdown",
      "source": [
        "# Bài thực hành lab03 - Khai thác dữ liệu - Naive Bayes\n",
        "Họ và tên: Huỳnh Quang Trung\\\n",
        "MSSV: 20280108\\\n",
        "Lớp: 20TH_KDL\\\n",
        "Bài làm được thực hiện trên Google Colab\n",
        "\n",
        "------"
      ],
      "metadata": {
        "id": "aqDfULr4liIM"
      }
    },
    {
      "cell_type": "markdown",
      "source": [
        "1. Analyze and Preprocess data - Check if the dataset has missing values or has any other problem.\n",
        "2. Feature Engineering\n",
        "3. Divide the dataset into 2 training and test sets\n",
        "4. Use Pipeline\n",
        "    4. a. Use scaler and dimensional reduction (if it is necessary).\n",
        "    4. b. Use suitable Naive Bayes for this problem. \n",
        "5. Perform model on training set and test set using gridsearch CV\n",
        "6. Measure performance of the model.\n",
        "7. Which metric is your main metric for this problem and why? What are your scaler, dimensional reduction and naive bayes model as well as their params? (<= 200 words, also input your opinion or conclusion here)\n",
        "\n",
        "\n",
        "How can I measure your point:\n",
        "1. Your function is callable and runs correctly\n",
        "2. The performance of your model (in full pipeline) is acceptable. The final error based on my train and test set is low enough.\n",
        "3. The data preprocessing is correct or make sense\n",
        "4. The Feature engineering is correct or make sense\n",
        "5. Any other additional process will be considered a small plus point."
      ],
      "metadata": {
        "collapsed": false,
        "id": "_GIq8Io_8Koq"
      }
    },
    {
      "cell_type": "markdown",
      "source": [
        "A Travel Company Is Offering Travel Insurance Packages To Their Customers. The new insurance plan also covers Covid-19. The Company Claims To Know Which Customers Are Interested To Buy It Based On The Company's Database History.\n",
        "\n",
        "* Age - Age Of The Customer\n",
        "* Employment Type - The Sector In Which Customer Is Employed\n",
        "GraduateOrNot - Whether The Customer Is College Graduate Or Not\n",
        "* AnnualIncome - The Yearly Income Of The Customer In Indian Rupees\n",
        "* FamilyMembers - Number Of Members In Customer's Family\n",
        "* ChronicDisease - Whether The Customer Suffers From Any Major Disease Or Conditions Like Diabetes/High BP or Asthama,etc.\n",
        "* FrequentFlyer - Derived Data Based On Customer's History Of Booking Air Tickets On Atleast 4 Different Instances In The Last 2 Years (2017-2019).\n",
        "* EverTravelledAbroad - Has The Customer Ever Travelled To A Foreign Country\n",
        "* TravelInsurance - Did The Customer Buy Travel Insurance Package During Introductory Offering Held In The Year 2019."
      ],
      "metadata": {
        "collapsed": false,
        "id": "SjhjJmx68Kou"
      }
    },
    {
      "cell_type": "markdown",
      "source": [
        "## Load Dataset"
      ],
      "metadata": {
        "collapsed": false,
        "id": "iDJN7fbU8Kov"
      }
    },
    {
      "cell_type": "code",
      "source": [
        "import pandas as pd\n",
        "import numpy as np\n",
        "import matplotlib.pyplot as plt\n",
        "import seaborn as sns\n",
        "from sklearn.decomposition import PCA\n",
        "from sklearn.preprocessing import MinMaxScaler\n",
        "from sklearn.preprocessing import LabelEncoder\n",
        "from sklearn.model_selection import train_test_split\n",
        "from sklearn.naive_bayes import GaussianNB, MultinomialNB, ComplementNB, BernoulliNB, CategoricalNB\n",
        "from sklearn.pipeline import Pipeline\n",
        "from sklearn.metrics import precision_score, recall_score, f1_score, classification_report, accuracy_score\n",
        "from sklearn.model_selection import GridSearchCV\n",
        "import seaborn as sns\n",
        "from google.colab import drive\n",
        "\n",
        "drive.mount(\"/content/drive\")"
      ],
      "metadata": {
        "colab": {
          "base_uri": "https://localhost:8080/"
        },
        "id": "YfmW1_KdudmQ",
        "outputId": "083ea06e-68e6-4a81-d894-5b61ab5a057d"
      },
      "execution_count": 236,
      "outputs": [
        {
          "output_type": "stream",
          "name": "stdout",
          "text": [
            "Drive already mounted at /content/drive; to attempt to forcibly remount, call drive.mount(\"/content/drive\", force_remount=True).\n"
          ]
        }
      ]
    },
    {
      "cell_type": "code",
      "execution_count": 237,
      "outputs": [
        {
          "output_type": "execute_result",
          "data": {
            "text/plain": [
              "   Unnamed: 0  Age               Employment Type GraduateOrNot  AnnualIncome  \\\n",
              "0           0   31             Government Sector           Yes        400000   \n",
              "1           1   31  Private Sector/Self Employed           Yes       1250000   \n",
              "2           2   34  Private Sector/Self Employed           Yes        500000   \n",
              "3           3   28  Private Sector/Self Employed           Yes        700000   \n",
              "4           4   28  Private Sector/Self Employed           Yes        700000   \n",
              "\n",
              "   FamilyMembers  ChronicDiseases FrequentFlyer EverTravelledAbroad  \\\n",
              "0              6                1            No                  No   \n",
              "1              7                0            No                  No   \n",
              "2              4                1            No                  No   \n",
              "3              3                1            No                  No   \n",
              "4              8                1           Yes                  No   \n",
              "\n",
              "   TravelInsurance  \n",
              "0                0  \n",
              "1                0  \n",
              "2                1  \n",
              "3                0  \n",
              "4                0  "
            ],
            "text/html": [
              "\n",
              "  <div id=\"df-846130cf-f421-453a-ae49-89819a4ec096\">\n",
              "    <div class=\"colab-df-container\">\n",
              "      <div>\n",
              "<style scoped>\n",
              "    .dataframe tbody tr th:only-of-type {\n",
              "        vertical-align: middle;\n",
              "    }\n",
              "\n",
              "    .dataframe tbody tr th {\n",
              "        vertical-align: top;\n",
              "    }\n",
              "\n",
              "    .dataframe thead th {\n",
              "        text-align: right;\n",
              "    }\n",
              "</style>\n",
              "<table border=\"1\" class=\"dataframe\">\n",
              "  <thead>\n",
              "    <tr style=\"text-align: right;\">\n",
              "      <th></th>\n",
              "      <th>Unnamed: 0</th>\n",
              "      <th>Age</th>\n",
              "      <th>Employment Type</th>\n",
              "      <th>GraduateOrNot</th>\n",
              "      <th>AnnualIncome</th>\n",
              "      <th>FamilyMembers</th>\n",
              "      <th>ChronicDiseases</th>\n",
              "      <th>FrequentFlyer</th>\n",
              "      <th>EverTravelledAbroad</th>\n",
              "      <th>TravelInsurance</th>\n",
              "    </tr>\n",
              "  </thead>\n",
              "  <tbody>\n",
              "    <tr>\n",
              "      <th>0</th>\n",
              "      <td>0</td>\n",
              "      <td>31</td>\n",
              "      <td>Government Sector</td>\n",
              "      <td>Yes</td>\n",
              "      <td>400000</td>\n",
              "      <td>6</td>\n",
              "      <td>1</td>\n",
              "      <td>No</td>\n",
              "      <td>No</td>\n",
              "      <td>0</td>\n",
              "    </tr>\n",
              "    <tr>\n",
              "      <th>1</th>\n",
              "      <td>1</td>\n",
              "      <td>31</td>\n",
              "      <td>Private Sector/Self Employed</td>\n",
              "      <td>Yes</td>\n",
              "      <td>1250000</td>\n",
              "      <td>7</td>\n",
              "      <td>0</td>\n",
              "      <td>No</td>\n",
              "      <td>No</td>\n",
              "      <td>0</td>\n",
              "    </tr>\n",
              "    <tr>\n",
              "      <th>2</th>\n",
              "      <td>2</td>\n",
              "      <td>34</td>\n",
              "      <td>Private Sector/Self Employed</td>\n",
              "      <td>Yes</td>\n",
              "      <td>500000</td>\n",
              "      <td>4</td>\n",
              "      <td>1</td>\n",
              "      <td>No</td>\n",
              "      <td>No</td>\n",
              "      <td>1</td>\n",
              "    </tr>\n",
              "    <tr>\n",
              "      <th>3</th>\n",
              "      <td>3</td>\n",
              "      <td>28</td>\n",
              "      <td>Private Sector/Self Employed</td>\n",
              "      <td>Yes</td>\n",
              "      <td>700000</td>\n",
              "      <td>3</td>\n",
              "      <td>1</td>\n",
              "      <td>No</td>\n",
              "      <td>No</td>\n",
              "      <td>0</td>\n",
              "    </tr>\n",
              "    <tr>\n",
              "      <th>4</th>\n",
              "      <td>4</td>\n",
              "      <td>28</td>\n",
              "      <td>Private Sector/Self Employed</td>\n",
              "      <td>Yes</td>\n",
              "      <td>700000</td>\n",
              "      <td>8</td>\n",
              "      <td>1</td>\n",
              "      <td>Yes</td>\n",
              "      <td>No</td>\n",
              "      <td>0</td>\n",
              "    </tr>\n",
              "  </tbody>\n",
              "</table>\n",
              "</div>\n",
              "      <button class=\"colab-df-convert\" onclick=\"convertToInteractive('df-846130cf-f421-453a-ae49-89819a4ec096')\"\n",
              "              title=\"Convert this dataframe to an interactive table.\"\n",
              "              style=\"display:none;\">\n",
              "        \n",
              "  <svg xmlns=\"http://www.w3.org/2000/svg\" height=\"24px\"viewBox=\"0 0 24 24\"\n",
              "       width=\"24px\">\n",
              "    <path d=\"M0 0h24v24H0V0z\" fill=\"none\"/>\n",
              "    <path d=\"M18.56 5.44l.94 2.06.94-2.06 2.06-.94-2.06-.94-.94-2.06-.94 2.06-2.06.94zm-11 1L8.5 8.5l.94-2.06 2.06-.94-2.06-.94L8.5 2.5l-.94 2.06-2.06.94zm10 10l.94 2.06.94-2.06 2.06-.94-2.06-.94-.94-2.06-.94 2.06-2.06.94z\"/><path d=\"M17.41 7.96l-1.37-1.37c-.4-.4-.92-.59-1.43-.59-.52 0-1.04.2-1.43.59L10.3 9.45l-7.72 7.72c-.78.78-.78 2.05 0 2.83L4 21.41c.39.39.9.59 1.41.59.51 0 1.02-.2 1.41-.59l7.78-7.78 2.81-2.81c.8-.78.8-2.07 0-2.86zM5.41 20L4 18.59l7.72-7.72 1.47 1.35L5.41 20z\"/>\n",
              "  </svg>\n",
              "      </button>\n",
              "      \n",
              "  <style>\n",
              "    .colab-df-container {\n",
              "      display:flex;\n",
              "      flex-wrap:wrap;\n",
              "      gap: 12px;\n",
              "    }\n",
              "\n",
              "    .colab-df-convert {\n",
              "      background-color: #E8F0FE;\n",
              "      border: none;\n",
              "      border-radius: 50%;\n",
              "      cursor: pointer;\n",
              "      display: none;\n",
              "      fill: #1967D2;\n",
              "      height: 32px;\n",
              "      padding: 0 0 0 0;\n",
              "      width: 32px;\n",
              "    }\n",
              "\n",
              "    .colab-df-convert:hover {\n",
              "      background-color: #E2EBFA;\n",
              "      box-shadow: 0px 1px 2px rgba(60, 64, 67, 0.3), 0px 1px 3px 1px rgba(60, 64, 67, 0.15);\n",
              "      fill: #174EA6;\n",
              "    }\n",
              "\n",
              "    [theme=dark] .colab-df-convert {\n",
              "      background-color: #3B4455;\n",
              "      fill: #D2E3FC;\n",
              "    }\n",
              "\n",
              "    [theme=dark] .colab-df-convert:hover {\n",
              "      background-color: #434B5C;\n",
              "      box-shadow: 0px 1px 3px 1px rgba(0, 0, 0, 0.15);\n",
              "      filter: drop-shadow(0px 1px 2px rgba(0, 0, 0, 0.3));\n",
              "      fill: #FFFFFF;\n",
              "    }\n",
              "  </style>\n",
              "\n",
              "      <script>\n",
              "        const buttonEl =\n",
              "          document.querySelector('#df-846130cf-f421-453a-ae49-89819a4ec096 button.colab-df-convert');\n",
              "        buttonEl.style.display =\n",
              "          google.colab.kernel.accessAllowed ? 'block' : 'none';\n",
              "\n",
              "        async function convertToInteractive(key) {\n",
              "          const element = document.querySelector('#df-846130cf-f421-453a-ae49-89819a4ec096');\n",
              "          const dataTable =\n",
              "            await google.colab.kernel.invokeFunction('convertToInteractive',\n",
              "                                                     [key], {});\n",
              "          if (!dataTable) return;\n",
              "\n",
              "          const docLinkHtml = 'Like what you see? Visit the ' +\n",
              "            '<a target=\"_blank\" href=https://colab.research.google.com/notebooks/data_table.ipynb>data table notebook</a>'\n",
              "            + ' to learn more about interactive tables.';\n",
              "          element.innerHTML = '';\n",
              "          dataTable['output_type'] = 'display_data';\n",
              "          await google.colab.output.renderOutput(dataTable, element);\n",
              "          const docLink = document.createElement('div');\n",
              "          docLink.innerHTML = docLinkHtml;\n",
              "          element.appendChild(docLink);\n",
              "        }\n",
              "      </script>\n",
              "    </div>\n",
              "  </div>\n",
              "  "
            ]
          },
          "metadata": {},
          "execution_count": 237
        }
      ],
      "source": [
        "import pandas as pd\n",
        "PATH = \"/content/drive/MyDrive/NMMH/Tuan3/TravelInsurancePrediction.csv\"\n",
        "\n",
        "df = pd.read_csv(PATH)\n",
        "df.head()"
      ],
      "metadata": {
        "id": "G8aJO4Rj8Kov",
        "colab": {
          "base_uri": "https://localhost:8080/",
          "height": 250
        },
        "outputId": "8682b606-d568-4d03-f1d3-f1f2aa01f6b7"
      }
    },
    {
      "cell_type": "markdown",
      "source": [
        "## Data Analysis"
      ],
      "metadata": {
        "collapsed": false,
        "id": "mk4IrtwS8Kow"
      }
    },
    {
      "cell_type": "code",
      "source": [
        "df.shape"
      ],
      "metadata": {
        "colab": {
          "base_uri": "https://localhost:8080/"
        },
        "id": "JmZLLvUsosso",
        "outputId": "04f3f7bd-e565-423d-b861-ce14fc971680"
      },
      "execution_count": 238,
      "outputs": [
        {
          "output_type": "execute_result",
          "data": {
            "text/plain": [
              "(1987, 10)"
            ]
          },
          "metadata": {},
          "execution_count": 238
        }
      ]
    },
    {
      "cell_type": "code",
      "execution_count": 239,
      "outputs": [
        {
          "output_type": "execute_result",
          "data": {
            "text/plain": [
              "                  count           mean            std       min       25%  \\\n",
              "Unnamed: 0       1987.0     993.000000     573.741812       0.0     496.5   \n",
              "Age              1987.0      29.650226       2.913308      25.0      28.0   \n",
              "AnnualIncome     1987.0  932762.959235  376855.684748  300000.0  600000.0   \n",
              "FamilyMembers    1987.0       4.752894       1.609650       2.0       4.0   \n",
              "ChronicDiseases  1987.0       0.277806       0.448030       0.0       0.0   \n",
              "TravelInsurance  1987.0       0.357323       0.479332       0.0       0.0   \n",
              "\n",
              "                      50%        75%        max  \n",
              "Unnamed: 0          993.0     1489.5     1986.0  \n",
              "Age                  29.0       32.0       35.0  \n",
              "AnnualIncome     900000.0  1250000.0  1800000.0  \n",
              "FamilyMembers         5.0        6.0        9.0  \n",
              "ChronicDiseases       0.0        1.0        1.0  \n",
              "TravelInsurance       0.0        1.0        1.0  "
            ],
            "text/html": [
              "\n",
              "  <div id=\"df-4391a7cc-9bcb-498f-bb2a-8fbc5f48abac\">\n",
              "    <div class=\"colab-df-container\">\n",
              "      <div>\n",
              "<style scoped>\n",
              "    .dataframe tbody tr th:only-of-type {\n",
              "        vertical-align: middle;\n",
              "    }\n",
              "\n",
              "    .dataframe tbody tr th {\n",
              "        vertical-align: top;\n",
              "    }\n",
              "\n",
              "    .dataframe thead th {\n",
              "        text-align: right;\n",
              "    }\n",
              "</style>\n",
              "<table border=\"1\" class=\"dataframe\">\n",
              "  <thead>\n",
              "    <tr style=\"text-align: right;\">\n",
              "      <th></th>\n",
              "      <th>count</th>\n",
              "      <th>mean</th>\n",
              "      <th>std</th>\n",
              "      <th>min</th>\n",
              "      <th>25%</th>\n",
              "      <th>50%</th>\n",
              "      <th>75%</th>\n",
              "      <th>max</th>\n",
              "    </tr>\n",
              "  </thead>\n",
              "  <tbody>\n",
              "    <tr>\n",
              "      <th>Unnamed: 0</th>\n",
              "      <td>1987.0</td>\n",
              "      <td>993.000000</td>\n",
              "      <td>573.741812</td>\n",
              "      <td>0.0</td>\n",
              "      <td>496.5</td>\n",
              "      <td>993.0</td>\n",
              "      <td>1489.5</td>\n",
              "      <td>1986.0</td>\n",
              "    </tr>\n",
              "    <tr>\n",
              "      <th>Age</th>\n",
              "      <td>1987.0</td>\n",
              "      <td>29.650226</td>\n",
              "      <td>2.913308</td>\n",
              "      <td>25.0</td>\n",
              "      <td>28.0</td>\n",
              "      <td>29.0</td>\n",
              "      <td>32.0</td>\n",
              "      <td>35.0</td>\n",
              "    </tr>\n",
              "    <tr>\n",
              "      <th>AnnualIncome</th>\n",
              "      <td>1987.0</td>\n",
              "      <td>932762.959235</td>\n",
              "      <td>376855.684748</td>\n",
              "      <td>300000.0</td>\n",
              "      <td>600000.0</td>\n",
              "      <td>900000.0</td>\n",
              "      <td>1250000.0</td>\n",
              "      <td>1800000.0</td>\n",
              "    </tr>\n",
              "    <tr>\n",
              "      <th>FamilyMembers</th>\n",
              "      <td>1987.0</td>\n",
              "      <td>4.752894</td>\n",
              "      <td>1.609650</td>\n",
              "      <td>2.0</td>\n",
              "      <td>4.0</td>\n",
              "      <td>5.0</td>\n",
              "      <td>6.0</td>\n",
              "      <td>9.0</td>\n",
              "    </tr>\n",
              "    <tr>\n",
              "      <th>ChronicDiseases</th>\n",
              "      <td>1987.0</td>\n",
              "      <td>0.277806</td>\n",
              "      <td>0.448030</td>\n",
              "      <td>0.0</td>\n",
              "      <td>0.0</td>\n",
              "      <td>0.0</td>\n",
              "      <td>1.0</td>\n",
              "      <td>1.0</td>\n",
              "    </tr>\n",
              "    <tr>\n",
              "      <th>TravelInsurance</th>\n",
              "      <td>1987.0</td>\n",
              "      <td>0.357323</td>\n",
              "      <td>0.479332</td>\n",
              "      <td>0.0</td>\n",
              "      <td>0.0</td>\n",
              "      <td>0.0</td>\n",
              "      <td>1.0</td>\n",
              "      <td>1.0</td>\n",
              "    </tr>\n",
              "  </tbody>\n",
              "</table>\n",
              "</div>\n",
              "      <button class=\"colab-df-convert\" onclick=\"convertToInteractive('df-4391a7cc-9bcb-498f-bb2a-8fbc5f48abac')\"\n",
              "              title=\"Convert this dataframe to an interactive table.\"\n",
              "              style=\"display:none;\">\n",
              "        \n",
              "  <svg xmlns=\"http://www.w3.org/2000/svg\" height=\"24px\"viewBox=\"0 0 24 24\"\n",
              "       width=\"24px\">\n",
              "    <path d=\"M0 0h24v24H0V0z\" fill=\"none\"/>\n",
              "    <path d=\"M18.56 5.44l.94 2.06.94-2.06 2.06-.94-2.06-.94-.94-2.06-.94 2.06-2.06.94zm-11 1L8.5 8.5l.94-2.06 2.06-.94-2.06-.94L8.5 2.5l-.94 2.06-2.06.94zm10 10l.94 2.06.94-2.06 2.06-.94-2.06-.94-.94-2.06-.94 2.06-2.06.94z\"/><path d=\"M17.41 7.96l-1.37-1.37c-.4-.4-.92-.59-1.43-.59-.52 0-1.04.2-1.43.59L10.3 9.45l-7.72 7.72c-.78.78-.78 2.05 0 2.83L4 21.41c.39.39.9.59 1.41.59.51 0 1.02-.2 1.41-.59l7.78-7.78 2.81-2.81c.8-.78.8-2.07 0-2.86zM5.41 20L4 18.59l7.72-7.72 1.47 1.35L5.41 20z\"/>\n",
              "  </svg>\n",
              "      </button>\n",
              "      \n",
              "  <style>\n",
              "    .colab-df-container {\n",
              "      display:flex;\n",
              "      flex-wrap:wrap;\n",
              "      gap: 12px;\n",
              "    }\n",
              "\n",
              "    .colab-df-convert {\n",
              "      background-color: #E8F0FE;\n",
              "      border: none;\n",
              "      border-radius: 50%;\n",
              "      cursor: pointer;\n",
              "      display: none;\n",
              "      fill: #1967D2;\n",
              "      height: 32px;\n",
              "      padding: 0 0 0 0;\n",
              "      width: 32px;\n",
              "    }\n",
              "\n",
              "    .colab-df-convert:hover {\n",
              "      background-color: #E2EBFA;\n",
              "      box-shadow: 0px 1px 2px rgba(60, 64, 67, 0.3), 0px 1px 3px 1px rgba(60, 64, 67, 0.15);\n",
              "      fill: #174EA6;\n",
              "    }\n",
              "\n",
              "    [theme=dark] .colab-df-convert {\n",
              "      background-color: #3B4455;\n",
              "      fill: #D2E3FC;\n",
              "    }\n",
              "\n",
              "    [theme=dark] .colab-df-convert:hover {\n",
              "      background-color: #434B5C;\n",
              "      box-shadow: 0px 1px 3px 1px rgba(0, 0, 0, 0.15);\n",
              "      filter: drop-shadow(0px 1px 2px rgba(0, 0, 0, 0.3));\n",
              "      fill: #FFFFFF;\n",
              "    }\n",
              "  </style>\n",
              "\n",
              "      <script>\n",
              "        const buttonEl =\n",
              "          document.querySelector('#df-4391a7cc-9bcb-498f-bb2a-8fbc5f48abac button.colab-df-convert');\n",
              "        buttonEl.style.display =\n",
              "          google.colab.kernel.accessAllowed ? 'block' : 'none';\n",
              "\n",
              "        async function convertToInteractive(key) {\n",
              "          const element = document.querySelector('#df-4391a7cc-9bcb-498f-bb2a-8fbc5f48abac');\n",
              "          const dataTable =\n",
              "            await google.colab.kernel.invokeFunction('convertToInteractive',\n",
              "                                                     [key], {});\n",
              "          if (!dataTable) return;\n",
              "\n",
              "          const docLinkHtml = 'Like what you see? Visit the ' +\n",
              "            '<a target=\"_blank\" href=https://colab.research.google.com/notebooks/data_table.ipynb>data table notebook</a>'\n",
              "            + ' to learn more about interactive tables.';\n",
              "          element.innerHTML = '';\n",
              "          dataTable['output_type'] = 'display_data';\n",
              "          await google.colab.output.renderOutput(dataTable, element);\n",
              "          const docLink = document.createElement('div');\n",
              "          docLink.innerHTML = docLinkHtml;\n",
              "          element.appendChild(docLink);\n",
              "        }\n",
              "      </script>\n",
              "    </div>\n",
              "  </div>\n",
              "  "
            ]
          },
          "metadata": {},
          "execution_count": 239
        }
      ],
      "source": [
        "df.describe().T"
      ],
      "metadata": {
        "id": "Z4z7vGmJ8Kox",
        "colab": {
          "base_uri": "https://localhost:8080/",
          "height": 238
        },
        "outputId": "c4c976ea-fb58-45b8-8c90-71f6f47bf6a4"
      }
    },
    {
      "cell_type": "markdown",
      "source": [
        "Ta thấy cột Unnamed: 0 là một cột thừa trong bộ dữ liệu, cột này có lẽ mang ý nghĩa là số thứ tự các bản ghi."
      ],
      "metadata": {
        "id": "-2Mg17bs70Ad"
      }
    },
    {
      "cell_type": "code",
      "source": [
        "df.info()"
      ],
      "metadata": {
        "colab": {
          "base_uri": "https://localhost:8080/"
        },
        "id": "ehZewGAFiv7G",
        "outputId": "46710401-43c0-4372-ebd8-06354190bd1e"
      },
      "execution_count": 240,
      "outputs": [
        {
          "output_type": "stream",
          "name": "stdout",
          "text": [
            "<class 'pandas.core.frame.DataFrame'>\n",
            "RangeIndex: 1987 entries, 0 to 1986\n",
            "Data columns (total 10 columns):\n",
            " #   Column               Non-Null Count  Dtype \n",
            "---  ------               --------------  ----- \n",
            " 0   Unnamed: 0           1987 non-null   int64 \n",
            " 1   Age                  1987 non-null   int64 \n",
            " 2   Employment Type      1987 non-null   object\n",
            " 3   GraduateOrNot        1987 non-null   object\n",
            " 4   AnnualIncome         1987 non-null   int64 \n",
            " 5   FamilyMembers        1987 non-null   int64 \n",
            " 6   ChronicDiseases      1987 non-null   int64 \n",
            " 7   FrequentFlyer        1987 non-null   object\n",
            " 8   EverTravelledAbroad  1987 non-null   object\n",
            " 9   TravelInsurance      1987 non-null   int64 \n",
            "dtypes: int64(6), object(4)\n",
            "memory usage: 155.4+ KB\n"
          ]
        }
      ]
    },
    {
      "cell_type": "code",
      "source": [
        "df.isna().sum()"
      ],
      "metadata": {
        "colab": {
          "base_uri": "https://localhost:8080/"
        },
        "id": "Dv9L-7iKEiQC",
        "outputId": "70d37b27-b0c4-4fd2-d5c4-73260f5b4b0e"
      },
      "execution_count": 241,
      "outputs": [
        {
          "output_type": "execute_result",
          "data": {
            "text/plain": [
              "Unnamed: 0             0\n",
              "Age                    0\n",
              "Employment Type        0\n",
              "GraduateOrNot          0\n",
              "AnnualIncome           0\n",
              "FamilyMembers          0\n",
              "ChronicDiseases        0\n",
              "FrequentFlyer          0\n",
              "EverTravelledAbroad    0\n",
              "TravelInsurance        0\n",
              "dtype: int64"
            ]
          },
          "metadata": {},
          "execution_count": 241
        }
      ]
    },
    {
      "cell_type": "markdown",
      "source": [
        "Bộ dữ liệu không có các giá trị Null hay NaN."
      ],
      "metadata": {
        "id": "GQKX3-am6Ab9"
      }
    },
    {
      "cell_type": "code",
      "source": [
        "def unique_values(df, columns):\n",
        "    unique_dict = {}\n",
        "    for col in columns:\n",
        "        unique_dict[col] = df[col].unique()\n",
        "    return unique_dict"
      ],
      "metadata": {
        "id": "PNBUXrkZU_Tq"
      },
      "execution_count": 242,
      "outputs": []
    },
    {
      "cell_type": "code",
      "source": [
        "# Các cột categorical\n",
        "categorical_col = ['Employment Type', 'GraduateOrNot', 'FrequentFlyer', 'EverTravelledAbroad', 'ChronicDiseases', 'TravelInsurance']\n",
        "unique_values(df, categorical_col)"
      ],
      "metadata": {
        "colab": {
          "base_uri": "https://localhost:8080/"
        },
        "id": "BIjd4naxU8mo",
        "outputId": "9af3eab3-0a40-48df-f527-4503f7f748a8"
      },
      "execution_count": 243,
      "outputs": [
        {
          "output_type": "execute_result",
          "data": {
            "text/plain": [
              "{'Employment Type': array(['Government Sector', 'Private Sector/Self Employed'], dtype=object),\n",
              " 'GraduateOrNot': array(['Yes', 'No'], dtype=object),\n",
              " 'FrequentFlyer': array(['No', 'Yes'], dtype=object),\n",
              " 'EverTravelledAbroad': array(['No', 'Yes'], dtype=object),\n",
              " 'ChronicDiseases': array([1, 0]),\n",
              " 'TravelInsurance': array([0, 1])}"
            ]
          },
          "metadata": {},
          "execution_count": 243
        }
      ]
    },
    {
      "cell_type": "markdown",
      "source": [
        "Ta thấy các cột categorical đều đã mang đúng các giá trị, không có các giá trị lạ xuất hiện."
      ],
      "metadata": {
        "id": "ghbxhdoTVCFE"
      }
    },
    {
      "cell_type": "markdown",
      "source": [
        "### Age"
      ],
      "metadata": {
        "id": "9u_5OaBiOWBk"
      }
    },
    {
      "cell_type": "code",
      "source": [
        "sns.displot(df['Age'])\n",
        "plt.show()"
      ],
      "metadata": {
        "colab": {
          "base_uri": "https://localhost:8080/",
          "height": 507
        },
        "id": "Ga41UrhrModX",
        "outputId": "c470480f-ceb5-44c7-8d8e-c1f835a28405"
      },
      "execution_count": 244,
      "outputs": [
        {
          "output_type": "display_data",
          "data": {
            "text/plain": [
              "<Figure size 500x500 with 1 Axes>"
            ],
            "image/png": "[encoded data removed]"
          },
          "metadata": {}
        }
      ]
    },
    {
      "cell_type": "markdown",
      "source": [
        "Hầu hết khách hàng trong dataset có độ tuổi là 28.\n"
      ],
      "metadata": {
        "id": "V9XB_0GbOEOk"
      }
    },
    {
      "cell_type": "code",
      "source": [
        "fig, ax = plt.subplots(figsize=(8,8))\n",
        "(df.groupby('Age').sum()['TravelInsurance']/df.groupby('Age').count()['TravelInsurance']).plot(kind='bar')\n",
        "plt.title('Phần trăm mua bảo hiểm theo từng độ tuổi')\n",
        "plt.ylabel('Percentage')\n",
        "plt.show()"
      ],
      "metadata": {
        "colab": {
          "base_uri": "https://localhost:8080/",
          "height": 779
        },
        "id": "rNU8rQEbNGY0",
        "outputId": "b7f45771-2506-411b-f610-630845e8733a"
      },
      "execution_count": 245,
      "outputs": [
        {
          "output_type": "stream",
          "name": "stderr",
          "text": [
            "<ipython-input-245-6803151ba590>:2: FutureWarning: The default value of numeric_only in DataFrameGroupBy.sum is deprecated. In a future version, numeric_only will default to False. Either specify numeric_only or select only columns which should be valid for the function.\n",
            "  (df.groupby('Age').sum()['TravelInsurance']/df.groupby('Age').count()['TravelInsurance']).plot(kind='bar')\n"
          ]
        },
        {
          "output_type": "display_data",
          "data": {
            "text/plain": [
              "<Figure size 800x800 with 1 Axes>"
            ],
            "image/png": "[encoded data removed]"
          },
          "metadata": {}
        }
      ]
    },
    {
      "cell_type": "markdown",
      "source": [
        "Ta thấy độ tuổi 25 là độ tuổi có nhiều khách hàng mua bảo hiểm nhất, tiếp đó là độ tuổi từ 33-35 với mức mua trung bình và thấp nhất là độ tuổi từ 27-32"
      ],
      "metadata": {
        "id": "8gCA3NNLNkC2"
      }
    },
    {
      "cell_type": "markdown",
      "source": [
        "### Employment Type"
      ],
      "metadata": {
        "id": "4nf7nYoiOfoo"
      }
    },
    {
      "cell_type": "code",
      "source": [
        "fig, ax = plt.subplots(figsize=(8,8))\n",
        "(df.groupby('Employment Type').sum()['TravelInsurance']/df.groupby('Employment Type').count()['TravelInsurance']).plot(kind='bar')\n",
        "plt.title('Phần trăm tỉ lệ mua bảo hiểm theo nghề nghiệp')\n",
        "plt.ylabel('Percentage')\n",
        "plt.xticks(rotation=360)\n",
        "plt.show()\n"
      ],
      "metadata": {
        "colab": {
          "base_uri": "https://localhost:8080/",
          "height": 775
        },
        "id": "56zJIrv2OjBo",
        "outputId": "ef7d36c9-cd1a-4189-b406-ddd289e2aa28"
      },
      "execution_count": 246,
      "outputs": [
        {
          "output_type": "stream",
          "name": "stderr",
          "text": [
            "<ipython-input-246-307eb9dfd0fa>:2: FutureWarning: The default value of numeric_only in DataFrameGroupBy.sum is deprecated. In a future version, numeric_only will default to False. Either specify numeric_only or select only columns which should be valid for the function.\n",
            "  (df.groupby('Employment Type').sum()['TravelInsurance']/df.groupby('Employment Type').count()['TravelInsurance']).plot(kind='bar')\n"
          ]
        },
        {
          "output_type": "display_data",
          "data": {
            "text/plain": [
              "<Figure size 800x800 with 1 Axes>"
            ],
            "image/png": "[encoded data removed]"
          },
          "metadata": {}
        }
      ]
    },
    {
      "cell_type": "markdown",
      "source": [
        "Ta thấy các khách hàng là kinh doanh cá nhân hay làm việc tự do thường có xu hướng mua bảo hiểm nhiều hơn là các khách hàng làm việc trong chính phủ. Điều này cũng hợp lý bởi vì nhân viên chính phủ thường được hưởng nhiều phúc lợi hơn."
      ],
      "metadata": {
        "id": "dpTFNRD-PJaq"
      }
    },
    {
      "cell_type": "markdown",
      "source": [
        "### Graduate or Not"
      ],
      "metadata": {
        "id": "6dH2xL60QT-b"
      }
    },
    {
      "cell_type": "code",
      "source": [
        "fig, ax = plt.subplots(figsize=(8,8))\n",
        "(df.groupby('GraduateOrNot').sum()['TravelInsurance']/df.groupby('GraduateOrNot').count()['TravelInsurance']).plot(kind='bar')\n",
        "plt.title('Phần trăm tỉ lệ mua bảo hiểm theo trình độ học vấn')\n",
        "plt.ylabel('Percentage')\n",
        "plt.xticks(rotation=360)\n",
        "plt.show()"
      ],
      "metadata": {
        "colab": {
          "base_uri": "https://localhost:8080/",
          "height": 774
        },
        "id": "j6zzlcmoQZWc",
        "outputId": "0e57f1d1-8a6d-422e-a91e-0e7b836a9063"
      },
      "execution_count": 247,
      "outputs": [
        {
          "output_type": "stream",
          "name": "stderr",
          "text": [
            "<ipython-input-247-771a05b4e334>:2: FutureWarning: The default value of numeric_only in DataFrameGroupBy.sum is deprecated. In a future version, numeric_only will default to False. Either specify numeric_only or select only columns which should be valid for the function.\n",
            "  (df.groupby('GraduateOrNot').sum()['TravelInsurance']/df.groupby('GraduateOrNot').count()['TravelInsurance']).plot(kind='bar')\n"
          ]
        },
        {
          "output_type": "display_data",
          "data": {
            "text/plain": [
              "<Figure size 800x800 with 1 Axes>"
            ],
            "image/png": "[encoded data removed]"
          },
          "metadata": {}
        }
      ]
    },
    {
      "cell_type": "markdown",
      "source": [
        "Có vẻ như mua hay không mua bảo hiểm không có sự khác biệt quá lớn đối với những khách hàng đã tốt nghiệp hay chưa tốt nghiệp"
      ],
      "metadata": {
        "id": "6IEmj645Rnje"
      }
    },
    {
      "cell_type": "markdown",
      "source": [
        "### AnnualIncome"
      ],
      "metadata": {
        "id": "DeTF0ZfUSAsU"
      }
    },
    {
      "cell_type": "code",
      "source": [
        "fig, ax = plt.subplots(figsize=(8,8))\n",
        "(df.groupby('AnnualIncome').sum()['TravelInsurance']/df.groupby('AnnualIncome').count()['TravelInsurance']).plot(kind='bar')\n",
        "plt.title('Phần trăm tỉ lệ mua bảo hiểm dựa trên thu nhập')\n",
        "plt.ylabel('Percentage')\n",
        "plt.xticks(rotation=45)\n",
        "plt.show()"
      ],
      "metadata": {
        "colab": {
          "base_uri": "https://localhost:8080/",
          "height": 815
        },
        "id": "yowhaMMnSDGk",
        "outputId": "35c2d556-de98-4968-a3a1-c040ea2452e8"
      },
      "execution_count": 248,
      "outputs": [
        {
          "output_type": "stream",
          "name": "stderr",
          "text": [
            "<ipython-input-248-9bdcf3b9499b>:2: FutureWarning: The default value of numeric_only in DataFrameGroupBy.sum is deprecated. In a future version, numeric_only will default to False. Either specify numeric_only or select only columns which should be valid for the function.\n",
            "  (df.groupby('AnnualIncome').sum()['TravelInsurance']/df.groupby('AnnualIncome').count()['TravelInsurance']).plot(kind='bar')\n"
          ]
        },
        {
          "output_type": "display_data",
          "data": {
            "text/plain": [
              "<Figure size 800x800 with 1 Axes>"
            ],
            "image/png": "[encoded data removed]"
          },
          "metadata": {}
        }
      ]
    },
    {
      "cell_type": "markdown",
      "source": [
        "Những khách hàng có thu nhập càng cao thì có khả năng sẽ mua bảo hiểm cao hơn những khách hàng còn lại."
      ],
      "metadata": {
        "id": "eRWYJ0sDSLuN"
      }
    },
    {
      "cell_type": "code",
      "source": [
        "fig,ax=plt.subplots(figsize=(8,8))\n",
        "sns.boxplot(x='Age',y='AnnualIncome',hue='TravelInsurance',data=df)\n",
        "plt.title('Boxplot of Age/Annual Income')\n",
        "plt.show()"
      ],
      "metadata": {
        "colab": {
          "base_uri": "https://localhost:8080/",
          "height": 718
        },
        "id": "yOcJYvipTI4d",
        "outputId": "832d3ad6-a15d-4917-deba-68f567ac0bf8"
      },
      "execution_count": 249,
      "outputs": [
        {
          "output_type": "display_data",
          "data": {
            "text/plain": [
              "<Figure size 800x800 with 1 Axes>"
            ],
            "image/png": "[encoded data removed]"
          },
          "metadata": {}
        }
      ]
    },
    {
      "cell_type": "markdown",
      "source": [
        "Có vẻ trong từng nhóm tuổi, những người có thu nhập cao thường sẽ có xu hướng mua bảo hiểm nhiều hơn là những người có thu nhập thấp hơn."
      ],
      "metadata": {
        "id": "6jGSFjcxTO8f"
      }
    },
    {
      "cell_type": "markdown",
      "source": [
        "### TravelInsurance"
      ],
      "metadata": {
        "id": "kCuFR912UdL2"
      }
    },
    {
      "cell_type": "code",
      "source": [
        "sns.countplot(x='TravelInsurance', data=df)"
      ],
      "metadata": {
        "colab": {
          "base_uri": "https://localhost:8080/",
          "height": 466
        },
        "id": "ytOh6re30avL",
        "outputId": "1869ec24-4c9d-4725-8b1b-e946d9409e64"
      },
      "execution_count": 250,
      "outputs": [
        {
          "output_type": "execute_result",
          "data": {
            "text/plain": [
              "<Axes: xlabel='TravelInsurance', ylabel='count'>"
            ]
          },
          "metadata": {},
          "execution_count": 250
        },
        {
          "output_type": "display_data",
          "data": {
            "text/plain": [
              "<Figure size 640x480 with 1 Axes>"
            ],
            "image/png": "[encoded data removed]"
          },
          "metadata": {}
        }
      ]
    },
    {
      "cell_type": "markdown",
      "source": [
        "Ta thấy bộ dữ liệu có hiện tượng bị imbalance khi số bản ghi ở lớp 0 nhiều hơn rất nhiều so với lớp 1. Điều này có lẽ sẽ làm giảm chất lượng của mô hình trên label 1, cũng là label mà ta quan tâm trong bài toán này."
      ],
      "metadata": {
        "id": "nJC8YVX9OAxP"
      }
    },
    {
      "cell_type": "markdown",
      "source": [
        "## Preprocessing"
      ],
      "metadata": {
        "collapsed": false,
        "id": "flqsM83K8Kox"
      }
    },
    {
      "cell_type": "markdown",
      "source": [
        "Trong phần này, ta sẽ xóa cột `Unnamed: 0` ra khỏi bộ dữ liệu."
      ],
      "metadata": {
        "id": "ea6n-FPMl4zG"
      }
    },
    {
      "cell_type": "code",
      "execution_count": 251,
      "outputs": [],
      "source": [
        "def preprocessing_data(df):\n",
        "    \"\"\"\n",
        "    Preprocess your data (eg. Drop null datapoints or fill missing data)\n",
        "    :param df: pandas DataFrame\n",
        "    :return: pandas DataFrame\n",
        "    \"\"\"\n",
        "    preprocessed_df = df.copy()\n",
        "    preprocessed_df.drop(columns=['Unnamed: 0'], axis=1, inplace=True)\n",
        "    return preprocessed_df"
      ],
      "metadata": {
        "id": "BsLrFNP-8Kox"
      }
    },
    {
      "cell_type": "code",
      "execution_count": 252,
      "outputs": [
        {
          "output_type": "execute_result",
          "data": {
            "text/plain": [
              "   Age               Employment Type GraduateOrNot  AnnualIncome  \\\n",
              "0   31             Government Sector           Yes        400000   \n",
              "1   31  Private Sector/Self Employed           Yes       1250000   \n",
              "2   34  Private Sector/Self Employed           Yes        500000   \n",
              "3   28  Private Sector/Self Employed           Yes        700000   \n",
              "4   28  Private Sector/Self Employed           Yes        700000   \n",
              "\n",
              "   FamilyMembers  ChronicDiseases FrequentFlyer EverTravelledAbroad  \\\n",
              "0              6                1            No                  No   \n",
              "1              7                0            No                  No   \n",
              "2              4                1            No                  No   \n",
              "3              3                1            No                  No   \n",
              "4              8                1           Yes                  No   \n",
              "\n",
              "   TravelInsurance  \n",
              "0                0  \n",
              "1                0  \n",
              "2                1  \n",
              "3                0  \n",
              "4                0  "
            ],
            "text/html": [
              "\n",
              "  <div id=\"df-60fd98a0-891f-439a-904c-6ca8852d659b\">\n",
              "    <div class=\"colab-df-container\">\n",
              "      <div>\n",
              "<style scoped>\n",
              "    .dataframe tbody tr th:only-of-type {\n",
              "        vertical-align: middle;\n",
              "    }\n",
              "\n",
              "    .dataframe tbody tr th {\n",
              "        vertical-align: top;\n",
              "    }\n",
              "\n",
              "    .dataframe thead th {\n",
              "        text-align: right;\n",
              "    }\n",
              "</style>\n",
              "<table border=\"1\" class=\"dataframe\">\n",
              "  <thead>\n",
              "    <tr style=\"text-align: right;\">\n",
              "      <th></th>\n",
              "      <th>Age</th>\n",
              "      <th>Employment Type</th>\n",
              "      <th>GraduateOrNot</th>\n",
              "      <th>AnnualIncome</th>\n",
              "      <th>FamilyMembers</th>\n",
              "      <th>ChronicDiseases</th>\n",
              "      <th>FrequentFlyer</th>\n",
              "      <th>EverTravelledAbroad</th>\n",
              "      <th>TravelInsurance</th>\n",
              "    </tr>\n",
              "  </thead>\n",
              "  <tbody>\n",
              "    <tr>\n",
              "      <th>0</th>\n",
              "      <td>31</td>\n",
              "      <td>Government Sector</td>\n",
              "      <td>Yes</td>\n",
              "      <td>400000</td>\n",
              "      <td>6</td>\n",
              "      <td>1</td>\n",
              "      <td>No</td>\n",
              "      <td>No</td>\n",
              "      <td>0</td>\n",
              "    </tr>\n",
              "    <tr>\n",
              "      <th>1</th>\n",
              "      <td>31</td>\n",
              "      <td>Private Sector/Self Employed</td>\n",
              "      <td>Yes</td>\n",
              "      <td>1250000</td>\n",
              "      <td>7</td>\n",
              "      <td>0</td>\n",
              "      <td>No</td>\n",
              "      <td>No</td>\n",
              "      <td>0</td>\n",
              "    </tr>\n",
              "    <tr>\n",
              "      <th>2</th>\n",
              "      <td>34</td>\n",
              "      <td>Private Sector/Self Employed</td>\n",
              "      <td>Yes</td>\n",
              "      <td>500000</td>\n",
              "      <td>4</td>\n",
              "      <td>1</td>\n",
              "      <td>No</td>\n",
              "      <td>No</td>\n",
              "      <td>1</td>\n",
              "    </tr>\n",
              "    <tr>\n",
              "      <th>3</th>\n",
              "      <td>28</td>\n",
              "      <td>Private Sector/Self Employed</td>\n",
              "      <td>Yes</td>\n",
              "      <td>700000</td>\n",
              "      <td>3</td>\n",
              "      <td>1</td>\n",
              "      <td>No</td>\n",
              "      <td>No</td>\n",
              "      <td>0</td>\n",
              "    </tr>\n",
              "    <tr>\n",
              "      <th>4</th>\n",
              "      <td>28</td>\n",
              "      <td>Private Sector/Self Employed</td>\n",
              "      <td>Yes</td>\n",
              "      <td>700000</td>\n",
              "      <td>8</td>\n",
              "      <td>1</td>\n",
              "      <td>Yes</td>\n",
              "      <td>No</td>\n",
              "      <td>0</td>\n",
              "    </tr>\n",
              "  </tbody>\n",
              "</table>\n",
              "</div>\n",
              "      <button class=\"colab-df-convert\" onclick=\"convertToInteractive('df-60fd98a0-891f-439a-904c-6ca8852d659b')\"\n",
              "              title=\"Convert this dataframe to an interactive table.\"\n",
              "              style=\"display:none;\">\n",
              "        \n",
              "  <svg xmlns=\"http://www.w3.org/2000/svg\" height=\"24px\"viewBox=\"0 0 24 24\"\n",
              "       width=\"24px\">\n",
              "    <path d=\"M0 0h24v24H0V0z\" fill=\"none\"/>\n",
              "    <path d=\"M18.56 5.44l.94 2.06.94-2.06 2.06-.94-2.06-.94-.94-2.06-.94 2.06-2.06.94zm-11 1L8.5 8.5l.94-2.06 2.06-.94-2.06-.94L8.5 2.5l-.94 2.06-2.06.94zm10 10l.94 2.06.94-2.06 2.06-.94-2.06-.94-.94-2.06-.94 2.06-2.06.94z\"/><path d=\"M17.41 7.96l-1.37-1.37c-.4-.4-.92-.59-1.43-.59-.52 0-1.04.2-1.43.59L10.3 9.45l-7.72 7.72c-.78.78-.78 2.05 0 2.83L4 21.41c.39.39.9.59 1.41.59.51 0 1.02-.2 1.41-.59l7.78-7.78 2.81-2.81c.8-.78.8-2.07 0-2.86zM5.41 20L4 18.59l7.72-7.72 1.47 1.35L5.41 20z\"/>\n",
              "  </svg>\n",
              "      </button>\n",
              "      \n",
              "  <style>\n",
              "    .colab-df-container {\n",
              "      display:flex;\n",
              "      flex-wrap:wrap;\n",
              "      gap: 12px;\n",
              "    }\n",
              "\n",
              "    .colab-df-convert {\n",
              "      background-color: #E8F0FE;\n",
              "      border: none;\n",
              "      border-radius: 50%;\n",
              "      cursor: pointer;\n",
              "      display: none;\n",
              "      fill: #1967D2;\n",
              "      height: 32px;\n",
              "      padding: 0 0 0 0;\n",
              "      width: 32px;\n",
              "    }\n",
              "\n",
              "    .colab-df-convert:hover {\n",
              "      background-color: #E2EBFA;\n",
              "      box-shadow: 0px 1px 2px rgba(60, 64, 67, 0.3), 0px 1px 3px 1px rgba(60, 64, 67, 0.15);\n",
              "      fill: #174EA6;\n",
              "    }\n",
              "\n",
              "    [theme=dark] .colab-df-convert {\n",
              "      background-color: #3B4455;\n",
              "      fill: #D2E3FC;\n",
              "    }\n",
              "\n",
              "    [theme=dark] .colab-df-convert:hover {\n",
              "      background-color: #434B5C;\n",
              "      box-shadow: 0px 1px 3px 1px rgba(0, 0, 0, 0.15);\n",
              "      filter: drop-shadow(0px 1px 2px rgba(0, 0, 0, 0.3));\n",
              "      fill: #FFFFFF;\n",
              "    }\n",
              "  </style>\n",
              "\n",
              "      <script>\n",
              "        const buttonEl =\n",
              "          document.querySelector('#df-60fd98a0-891f-439a-904c-6ca8852d659b button.colab-df-convert');\n",
              "        buttonEl.style.display =\n",
              "          google.colab.kernel.accessAllowed ? 'block' : 'none';\n",
              "\n",
              "        async function convertToInteractive(key) {\n",
              "          const element = document.querySelector('#df-60fd98a0-891f-439a-904c-6ca8852d659b');\n",
              "          const dataTable =\n",
              "            await google.colab.kernel.invokeFunction('convertToInteractive',\n",
              "                                                     [key], {});\n",
              "          if (!dataTable) return;\n",
              "\n",
              "          const docLinkHtml = 'Like what you see? Visit the ' +\n",
              "            '<a target=\"_blank\" href=https://colab.research.google.com/notebooks/data_table.ipynb>data table notebook</a>'\n",
              "            + ' to learn more about interactive tables.';\n",
              "          element.innerHTML = '';\n",
              "          dataTable['output_type'] = 'display_data';\n",
              "          await google.colab.output.renderOutput(dataTable, element);\n",
              "          const docLink = document.createElement('div');\n",
              "          docLink.innerHTML = docLinkHtml;\n",
              "          element.appendChild(docLink);\n",
              "        }\n",
              "      </script>\n",
              "    </div>\n",
              "  </div>\n",
              "  "
            ]
          },
          "metadata": {},
          "execution_count": 252
        }
      ],
      "source": [
        "preprocessed_df = preprocessing_data(df)\n",
        "preprocessed_df.head()"
      ],
      "metadata": {
        "id": "dei_gmKb8Koy",
        "colab": {
          "base_uri": "https://localhost:8080/",
          "height": 206
        },
        "outputId": "52b93314-e2c5-49b6-f004-80accc331c9e"
      }
    },
    {
      "cell_type": "markdown",
      "source": [
        "## Feature Engineering"
      ],
      "metadata": {
        "collapsed": false,
        "id": "Zi5s_ZP48Koy"
      }
    },
    {
      "cell_type": "markdown",
      "source": [
        "Sử dụng LabelEncoder để chuyển các cột categorical sang dạng numerical."
      ],
      "metadata": {
        "id": "Ka0fRVAKmAk-"
      }
    },
    {
      "cell_type": "code",
      "execution_count": 253,
      "outputs": [
        {
          "output_type": "execute_result",
          "data": {
            "text/plain": [
              "<Axes: >"
            ]
          },
          "metadata": {},
          "execution_count": 253
        },
        {
          "output_type": "display_data",
          "data": {
            "text/plain": [
              "<Figure size 640x480 with 2 Axes>"
            ],
            "image/png": "[encoded data removed]"
          },
          "metadata": {}
        }
      ],
      "source": [
        "def apply_feature_engineering(df):\n",
        "    \"\"\"\n",
        "    Apply all feature engineering to transform your data into number\n",
        "    :param df: pandas DataFrame\n",
        "    :return: pandas DataFrame\n",
        "    \"\"\"\n",
        "    engineered_df = df.copy()\n",
        "    le = LabelEncoder()\n",
        "    to_encode = ['Employment Type','GraduateOrNot','FrequentFlyer', 'EverTravelledAbroad']\n",
        "    for index in to_encode:\n",
        "      engineered_df[index] = le.fit_transform(engineered_df[index])\n",
        "\n",
        "    return engineered_df\n",
        "\n",
        "engineered_df = apply_feature_engineering(preprocessed_df)\n",
        "sns.heatmap(engineered_df.corr(), annot=True)"
      ],
      "metadata": {
        "id": "6VQVAmTx8Koy",
        "colab": {
          "base_uri": "https://localhost:8080/",
          "height": 582
        },
        "outputId": "dd985730-0a35-41ad-f116-59c7a3fc2cf2"
      }
    },
    {
      "cell_type": "code",
      "source": [
        "engineered_df.head()"
      ],
      "metadata": {
        "colab": {
          "base_uri": "https://localhost:8080/",
          "height": 206
        },
        "id": "A9jtJAgltPFz",
        "outputId": "4fa8151e-800a-4ca4-cea2-7e8fcd127684"
      },
      "execution_count": 254,
      "outputs": [
        {
          "output_type": "execute_result",
          "data": {
            "text/plain": [
              "   Age  Employment Type  GraduateOrNot  AnnualIncome  FamilyMembers  \\\n",
              "0   31                0              1        400000              6   \n",
              "1   31                1              1       1250000              7   \n",
              "2   34                1              1        500000              4   \n",
              "3   28                1              1        700000              3   \n",
              "4   28                1              1        700000              8   \n",
              "\n",
              "   ChronicDiseases  FrequentFlyer  EverTravelledAbroad  TravelInsurance  \n",
              "0                1              0                    0                0  \n",
              "1                0              0                    0                0  \n",
              "2                1              0                    0                1  \n",
              "3                1              0                    0                0  \n",
              "4                1              1                    0                0  "
            ],
            "text/html": [
              "\n",
              "  <div id=\"df-65e31e19-4992-49e3-88cc-ca20b00e961f\">\n",
              "    <div class=\"colab-df-container\">\n",
              "      <div>\n",
              "<style scoped>\n",
              "    .dataframe tbody tr th:only-of-type {\n",
              "        vertical-align: middle;\n",
              "    }\n",
              "\n",
              "    .dataframe tbody tr th {\n",
              "        vertical-align: top;\n",
              "    }\n",
              "\n",
              "    .dataframe thead th {\n",
              "        text-align: right;\n",
              "    }\n",
              "</style>\n",
              "<table border=\"1\" class=\"dataframe\">\n",
              "  <thead>\n",
              "    <tr style=\"text-align: right;\">\n",
              "      <th></th>\n",
              "      <th>Age</th>\n",
              "      <th>Employment Type</th>\n",
              "      <th>GraduateOrNot</th>\n",
              "      <th>AnnualIncome</th>\n",
              "      <th>FamilyMembers</th>\n",
              "      <th>ChronicDiseases</th>\n",
              "      <th>FrequentFlyer</th>\n",
              "      <th>EverTravelledAbroad</th>\n",
              "      <th>TravelInsurance</th>\n",
              "    </tr>\n",
              "  </thead>\n",
              "  <tbody>\n",
              "    <tr>\n",
              "      <th>0</th>\n",
              "      <td>31</td>\n",
              "      <td>0</td>\n",
              "      <td>1</td>\n",
              "      <td>400000</td>\n",
              "      <td>6</td>\n",
              "      <td>1</td>\n",
              "      <td>0</td>\n",
              "      <td>0</td>\n",
              "      <td>0</td>\n",
              "    </tr>\n",
              "    <tr>\n",
              "      <th>1</th>\n",
              "      <td>31</td>\n",
              "      <td>1</td>\n",
              "      <td>1</td>\n",
              "      <td>1250000</td>\n",
              "      <td>7</td>\n",
              "      <td>0</td>\n",
              "      <td>0</td>\n",
              "      <td>0</td>\n",
              "      <td>0</td>\n",
              "    </tr>\n",
              "    <tr>\n",
              "      <th>2</th>\n",
              "      <td>34</td>\n",
              "      <td>1</td>\n",
              "      <td>1</td>\n",
              "      <td>500000</td>\n",
              "      <td>4</td>\n",
              "      <td>1</td>\n",
              "      <td>0</td>\n",
              "      <td>0</td>\n",
              "      <td>1</td>\n",
              "    </tr>\n",
              "    <tr>\n",
              "      <th>3</th>\n",
              "      <td>28</td>\n",
              "      <td>1</td>\n",
              "      <td>1</td>\n",
              "      <td>700000</td>\n",
              "      <td>3</td>\n",
              "      <td>1</td>\n",
              "      <td>0</td>\n",
              "      <td>0</td>\n",
              "      <td>0</td>\n",
              "    </tr>\n",
              "    <tr>\n",
              "      <th>4</th>\n",
              "      <td>28</td>\n",
              "      <td>1</td>\n",
              "      <td>1</td>\n",
              "      <td>700000</td>\n",
              "      <td>8</td>\n",
              "      <td>1</td>\n",
              "      <td>1</td>\n",
              "      <td>0</td>\n",
              "      <td>0</td>\n",
              "    </tr>\n",
              "  </tbody>\n",
              "</table>\n",
              "</div>\n",
              "      <button class=\"colab-df-convert\" onclick=\"convertToInteractive('df-65e31e19-4992-49e3-88cc-ca20b00e961f')\"\n",
              "              title=\"Convert this dataframe to an interactive table.\"\n",
              "              style=\"display:none;\">\n",
              "        \n",
              "  <svg xmlns=\"http://www.w3.org/2000/svg\" height=\"24px\"viewBox=\"0 0 24 24\"\n",
              "       width=\"24px\">\n",
              "    <path d=\"M0 0h24v24H0V0z\" fill=\"none\"/>\n",
              "    <path d=\"M18.56 5.44l.94 2.06.94-2.06 2.06-.94-2.06-.94-.94-2.06-.94 2.06-2.06.94zm-11 1L8.5 8.5l.94-2.06 2.06-.94-2.06-.94L8.5 2.5l-.94 2.06-2.06.94zm10 10l.94 2.06.94-2.06 2.06-.94-2.06-.94-.94-2.06-.94 2.06-2.06.94z\"/><path d=\"M17.41 7.96l-1.37-1.37c-.4-.4-.92-.59-1.43-.59-.52 0-1.04.2-1.43.59L10.3 9.45l-7.72 7.72c-.78.78-.78 2.05 0 2.83L4 21.41c.39.39.9.59 1.41.59.51 0 1.02-.2 1.41-.59l7.78-7.78 2.81-2.81c.8-.78.8-2.07 0-2.86zM5.41 20L4 18.59l7.72-7.72 1.47 1.35L5.41 20z\"/>\n",
              "  </svg>\n",
              "      </button>\n",
              "      \n",
              "  <style>\n",
              "    .colab-df-container {\n",
              "      display:flex;\n",
              "      flex-wrap:wrap;\n",
              "      gap: 12px;\n",
              "    }\n",
              "\n",
              "    .colab-df-convert {\n",
              "      background-color: #E8F0FE;\n",
              "      border: none;\n",
              "      border-radius: 50%;\n",
              "      cursor: pointer;\n",
              "      display: none;\n",
              "      fill: #1967D2;\n",
              "      height: 32px;\n",
              "      padding: 0 0 0 0;\n",
              "      width: 32px;\n",
              "    }\n",
              "\n",
              "    .colab-df-convert:hover {\n",
              "      background-color: #E2EBFA;\n",
              "      box-shadow: 0px 1px 2px rgba(60, 64, 67, 0.3), 0px 1px 3px 1px rgba(60, 64, 67, 0.15);\n",
              "      fill: #174EA6;\n",
              "    }\n",
              "\n",
              "    [theme=dark] .colab-df-convert {\n",
              "      background-color: #3B4455;\n",
              "      fill: #D2E3FC;\n",
              "    }\n",
              "\n",
              "    [theme=dark] .colab-df-convert:hover {\n",
              "      background-color: #434B5C;\n",
              "      box-shadow: 0px 1px 3px 1px rgba(0, 0, 0, 0.15);\n",
              "      filter: drop-shadow(0px 1px 2px rgba(0, 0, 0, 0.3));\n",
              "      fill: #FFFFFF;\n",
              "    }\n",
              "  </style>\n",
              "\n",
              "      <script>\n",
              "        const buttonEl =\n",
              "          document.querySelector('#df-65e31e19-4992-49e3-88cc-ca20b00e961f button.colab-df-convert');\n",
              "        buttonEl.style.display =\n",
              "          google.colab.kernel.accessAllowed ? 'block' : 'none';\n",
              "\n",
              "        async function convertToInteractive(key) {\n",
              "          const element = document.querySelector('#df-65e31e19-4992-49e3-88cc-ca20b00e961f');\n",
              "          const dataTable =\n",
              "            await google.colab.kernel.invokeFunction('convertToInteractive',\n",
              "                                                     [key], {});\n",
              "          if (!dataTable) return;\n",
              "\n",
              "          const docLinkHtml = 'Like what you see? Visit the ' +\n",
              "            '<a target=\"_blank\" href=https://colab.research.google.com/notebooks/data_table.ipynb>data table notebook</a>'\n",
              "            + ' to learn more about interactive tables.';\n",
              "          element.innerHTML = '';\n",
              "          dataTable['output_type'] = 'display_data';\n",
              "          await google.colab.output.renderOutput(dataTable, element);\n",
              "          const docLink = document.createElement('div');\n",
              "          docLink.innerHTML = docLinkHtml;\n",
              "          element.appendChild(docLink);\n",
              "        }\n",
              "      </script>\n",
              "    </div>\n",
              "  </div>\n",
              "  "
            ]
          },
          "metadata": {},
          "execution_count": 254
        }
      ]
    },
    {
      "cell_type": "markdown",
      "source": [
        "Tách bộ dữu liệu ra thành X tương ứng với dữ liệu đầu vào của mô hình và y là target của bài toán."
      ],
      "metadata": {
        "id": "j1k0-ciQmM8M"
      }
    },
    {
      "cell_type": "code",
      "execution_count": 255,
      "outputs": [],
      "source": [
        "def prepare_X_y(df):\n",
        "    \"\"\"\n",
        "    Feature engineering and create X and y\n",
        "    :param df: pandas dataframe\n",
        "    :return: (X, y) output feature matrix (dataframe), target (series)\n",
        "    \"\"\"\n",
        "    feature_names = df.columns.tolist()\n",
        "    feature_names.remove(\"TravelInsurance\")\n",
        "\n",
        "    X = df[feature_names].values\n",
        "    y = df.TravelInsurance.values\n",
        "    return X, y\n",
        "\n",
        "X, y = prepare_X_y(engineered_df)"
      ],
      "metadata": {
        "id": "kWoZ3iLO8Koz"
      }
    },
    {
      "cell_type": "markdown",
      "source": [
        "## Apply machine learning model"
      ],
      "metadata": {
        "collapsed": false,
        "id": "prlZ55S68Koz"
      }
    },
    {
      "cell_type": "markdown",
      "source": [
        "## Train-test split"
      ],
      "metadata": {
        "collapsed": false,
        "id": "uwkqQnmZ8Ko0"
      }
    },
    {
      "cell_type": "code",
      "execution_count": 256,
      "outputs": [],
      "source": [
        "RANDOM_STATE = 188\n",
        "TRAIN_SIZE = 0.7\n",
        "\n",
        "trainX, testX ,trainY, testY = train_test_split(X, y, train_size=TRAIN_SIZE, random_state=RANDOM_STATE)"
      ],
      "metadata": {
        "id": "AgohjEzw8Ko0"
      }
    },
    {
      "cell_type": "markdown",
      "source": [
        "## Các Model Naive Bayes"
      ],
      "metadata": {
        "id": "8gDkxm7p2FH6"
      }
    },
    {
      "cell_type": "code",
      "source": [
        "gauNB_model = GaussianNB()\n",
        "gauNB_model.fit(trainX, trainY)\n",
        "\n",
        "multiNB_model =  MultinomialNB()\n",
        "multiNB_model.fit(trainX, trainY)\n",
        "\n",
        "compNB_model =  ComplementNB()\n",
        "compNB_model.fit(trainX, trainY)\n",
        "\n",
        "berNB_model =  BernoulliNB()\n",
        "berNB_model.fit(trainX, trainY)\n",
        "\n",
        "cateNB_model =  CategoricalNB()\n",
        "cateNB_model.fit(trainX, trainY)"
      ],
      "metadata": {
        "id": "9uezGbOgZ3jV",
        "colab": {
          "base_uri": "https://localhost:8080/",
          "height": 75
        },
        "outputId": "34f22ebe-d402-4676-d192-34a2813cc3a0"
      },
      "execution_count": 257,
      "outputs": [
        {
          "output_type": "execute_result",
          "data": {
            "text/plain": [
              "CategoricalNB()"
            ],
            "text/html": [
              "<style>#sk-container-id-19 {color: black;background-color: white;}#sk-container-id-19 pre{padding: 0;}#sk-container-id-19 div.sk-toggleable {background-color: white;}#sk-container-id-19 label.sk-toggleable__label {cursor: pointer;display: block;width: 100%;margin-bottom: 0;padding: 0.3em;box-sizing: border-box;text-align: center;}#sk-container-id-19 label.sk-toggleable__label-arrow:before {content: \"▸\";float: left;margin-right: 0.25em;color: #696969;}#sk-container-id-19 label.sk-toggleable__label-arrow:hover:before {color: black;}#sk-container-id-19 div.sk-estimator:hover label.sk-toggleable__label-arrow:before {color: black;}#sk-container-id-19 div.sk-toggleable__content {max-height: 0;max-width: 0;overflow: hidden;text-align: left;background-color: #f0f8ff;}#sk-container-id-19 div.sk-toggleable__content pre {margin: 0.2em;color: black;border-radius: 0.25em;background-color: #f0f8ff;}#sk-container-id-19 input.sk-toggleable__control:checked~div.sk-toggleable__content {max-height: 200px;max-width: 100%;overflow: auto;}#sk-container-id-19 input.sk-toggleable__control:checked~label.sk-toggleable__label-arrow:before {content: \"▾\";}#sk-container-id-19 div.sk-estimator input.sk-toggleable__control:checked~label.sk-toggleable__label {background-color: #d4ebff;}#sk-container-id-19 div.sk-label input.sk-toggleable__control:checked~label.sk-toggleable__label {background-color: #d4ebff;}#sk-container-id-19 input.sk-hidden--visually {border: 0;clip: rect(1px 1px 1px 1px);clip: rect(1px, 1px, 1px, 1px);height: 1px;margin: -1px;overflow: hidden;padding: 0;position: absolute;width: 1px;}#sk-container-id-19 div.sk-estimator {font-family: monospace;background-color: #f0f8ff;border: 1px dotted black;border-radius: 0.25em;box-sizing: border-box;margin-bottom: 0.5em;}#sk-container-id-19 div.sk-estimator:hover {background-color: #d4ebff;}#sk-container-id-19 div.sk-parallel-item::after {content: \"\";width: 100%;border-bottom: 1px solid gray;flex-grow: 1;}#sk-container-id-19 div.sk-label:hover label.sk-toggleable__label {background-color: #d4ebff;}#sk-container-id-19 div.sk-serial::before {content: \"\";position: absolute;border-left: 1px solid gray;box-sizing: border-box;top: 0;bottom: 0;left: 50%;z-index: 0;}#sk-container-id-19 div.sk-serial {display: flex;flex-direction: column;align-items: center;background-color: white;padding-right: 0.2em;padding-left: 0.2em;position: relative;}#sk-container-id-19 div.sk-item {position: relative;z-index: 1;}#sk-container-id-19 div.sk-parallel {display: flex;align-items: stretch;justify-content: center;background-color: white;position: relative;}#sk-container-id-19 div.sk-item::before, #sk-container-id-19 div.sk-parallel-item::before {content: \"\";position: absolute;border-left: 1px solid gray;box-sizing: border-box;top: 0;bottom: 0;left: 50%;z-index: -1;}#sk-container-id-19 div.sk-parallel-item {display: flex;flex-direction: column;z-index: 1;position: relative;background-color: white;}#sk-container-id-19 div.sk-parallel-item:first-child::after {align-self: flex-end;width: 50%;}#sk-container-id-19 div.sk-parallel-item:last-child::after {align-self: flex-start;width: 50%;}#sk-container-id-19 div.sk-parallel-item:only-child::after {width: 0;}#sk-container-id-19 div.sk-dashed-wrapped {border: 1px dashed gray;margin: 0 0.4em 0.5em 0.4em;box-sizing: border-box;padding-bottom: 0.4em;background-color: white;}#sk-container-id-19 div.sk-label label {font-family: monospace;font-weight: bold;display: inline-block;line-height: 1.2em;}#sk-container-id-19 div.sk-label-container {text-align: center;}#sk-container-id-19 div.sk-container {/* jupyter's `normalize.less` sets `[hidden] { display: none; }` but bootstrap.min.css set `[hidden] { display: none !important; }` so we also need the `!important` here to be able to override the default hidden behavior on the sphinx rendered scikit-learn.org. See: https://github.com/scikit-learn/scikit-learn/issues/21755 */display: inline-block !important;position: relative;}#sk-container-id-19 div.sk-text-repr-fallback {display: none;}</style><div id=\"sk-container-id-19\" class=\"sk-top-container\"><div class=\"sk-text-repr-fallback\"><pre>CategoricalNB()</pre><b>In a Jupyter environment, please rerun this cell to show the HTML representation or trust the notebook. <br />On GitHub, the HTML representation is unable to render, please try loading this page with nbviewer.org.</b></div><div class=\"sk-container\" hidden><div class=\"sk-item\"><div class=\"sk-estimator sk-toggleable\"><input class=\"sk-toggleable__control sk-hidden--visually\" id=\"sk-estimator-id-19\" type=\"checkbox\" checked><label for=\"sk-estimator-id-19\" class=\"sk-toggleable__label sk-toggleable__label-arrow\">CategoricalNB</label><div class=\"sk-toggleable__content\"><pre>CategoricalNB()</pre></div></div></div></div></div>"
            ]
          },
          "metadata": {},
          "execution_count": 257
        }
      ]
    },
    {
      "cell_type": "code",
      "source": [
        "model_lst = [gauNB_model, multiNB_model, compNB_model, berNB_model, cateNB_model]\n",
        "\n",
        "for model in model_lst:\n",
        "    model_name = model.__class__.__name__\n",
        "    predict = model.predict(testX)\n",
        "    print(\"*\" * 30)\n",
        "    print(f'{model_name}:')\n",
        "    print(classification_report(testY, predict))\n",
        "    print(accuracy_score(testY, predict))\n",
        "    print('*' * 30)"
      ],
      "metadata": {
        "colab": {
          "base_uri": "https://localhost:8080/"
        },
        "id": "-GXgbX2ea9sl",
        "outputId": "5c70ad04-f765-4141-fa33-07ed16aaf879"
      },
      "execution_count": 258,
      "outputs": [
        {
          "output_type": "stream",
          "name": "stdout",
          "text": [
            "******************************\n",
            "GaussianNB:\n",
            "              precision    recall  f1-score   support\n",
            "\n",
            "           0       0.81      0.88      0.84       403\n",
            "           1       0.70      0.57      0.63       194\n",
            "\n",
            "    accuracy                           0.78       597\n",
            "   macro avg       0.75      0.73      0.74       597\n",
            "weighted avg       0.77      0.78      0.77       597\n",
            "\n",
            "0.7805695142378559\n",
            "******************************\n",
            "******************************\n",
            "MultinomialNB:\n",
            "              precision    recall  f1-score   support\n",
            "\n",
            "           0       0.80      0.69      0.74       403\n",
            "           1       0.50      0.64      0.56       194\n",
            "\n",
            "    accuracy                           0.68       597\n",
            "   macro avg       0.65      0.67      0.65       597\n",
            "weighted avg       0.70      0.68      0.68       597\n",
            "\n",
            "0.6767169179229481\n",
            "******************************\n",
            "******************************\n",
            "ComplementNB:\n",
            "              precision    recall  f1-score   support\n",
            "\n",
            "           0       0.80      0.67      0.73       403\n",
            "           1       0.49      0.65      0.56       194\n",
            "\n",
            "    accuracy                           0.67       597\n",
            "   macro avg       0.65      0.66      0.65       597\n",
            "weighted avg       0.70      0.67      0.68       597\n",
            "\n",
            "0.6666666666666666\n",
            "******************************\n",
            "******************************\n",
            "BernoulliNB:\n",
            "              precision    recall  f1-score   support\n",
            "\n",
            "           0       0.80      0.88      0.83       403\n",
            "           1       0.68      0.54      0.60       194\n",
            "\n",
            "    accuracy                           0.77       597\n",
            "   macro avg       0.74      0.71      0.72       597\n",
            "weighted avg       0.76      0.77      0.76       597\n",
            "\n",
            "0.7654941373534339\n",
            "******************************\n",
            "******************************\n",
            "CategoricalNB:\n",
            "              precision    recall  f1-score   support\n",
            "\n",
            "           0       0.81      0.96      0.88       403\n",
            "           1       0.86      0.54      0.66       194\n",
            "\n",
            "    accuracy                           0.82       597\n",
            "   macro avg       0.84      0.75      0.77       597\n",
            "weighted avg       0.83      0.82      0.81       597\n",
            "\n",
            "0.8224455611390284\n",
            "******************************\n"
          ]
        }
      ]
    },
    {
      "cell_type": "markdown",
      "source": [
        "## Feature Scalling"
      ],
      "metadata": {
        "id": "QhWJlvJ8DPrt"
      }
    },
    {
      "cell_type": "code",
      "source": [
        "scaler = MinMaxScaler()\n",
        "X_train_scaled = scaler.fit_transform(trainX)\n",
        "X_test_scaled = scaler.transform(testX)"
      ],
      "metadata": {
        "id": "9na_ACCsvny-"
      },
      "execution_count": 259,
      "outputs": []
    },
    {
      "cell_type": "code",
      "source": [
        "gauNB_model = GaussianNB()\n",
        "gauNB_model.fit(X_train_scaled, trainY)\n",
        "\n",
        "multiNB_model =  MultinomialNB()\n",
        "multiNB_model.fit(X_train_scaled, trainY)\n",
        "\n",
        "compNB_model =  ComplementNB()\n",
        "compNB_model.fit(X_train_scaled, trainY)\n",
        "\n",
        "berNB_model =  BernoulliNB()\n",
        "berNB_model.fit(X_train_scaled, trainY)\n",
        "\n",
        "cateNB_model =  CategoricalNB()\n",
        "cateNB_model.fit(X_train_scaled, trainY)"
      ],
      "metadata": {
        "colab": {
          "base_uri": "https://localhost:8080/",
          "height": 75
        },
        "id": "FP9GEMx68vwq",
        "outputId": "0607bf21-c44f-4a90-9cef-157ed3a8a471"
      },
      "execution_count": 260,
      "outputs": [
        {
          "output_type": "execute_result",
          "data": {
            "text/plain": [
              "CategoricalNB()"
            ],
            "text/html": [
              "<style>#sk-container-id-20 {color: black;background-color: white;}#sk-container-id-20 pre{padding: 0;}#sk-container-id-20 div.sk-toggleable {background-color: white;}#sk-container-id-20 label.sk-toggleable__label {cursor: pointer;display: block;width: 100%;margin-bottom: 0;padding: 0.3em;box-sizing: border-box;text-align: center;}#sk-container-id-20 label.sk-toggleable__label-arrow:before {content: \"▸\";float: left;margin-right: 0.25em;color: #696969;}#sk-container-id-20 label.sk-toggleable__label-arrow:hover:before {color: black;}#sk-container-id-20 div.sk-estimator:hover label.sk-toggleable__label-arrow:before {color: black;}#sk-container-id-20 div.sk-toggleable__content {max-height: 0;max-width: 0;overflow: hidden;text-align: left;background-color: #f0f8ff;}#sk-container-id-20 div.sk-toggleable__content pre {margin: 0.2em;color: black;border-radius: 0.25em;background-color: #f0f8ff;}#sk-container-id-20 input.sk-toggleable__control:checked~div.sk-toggleable__content {max-height: 200px;max-width: 100%;overflow: auto;}#sk-container-id-20 input.sk-toggleable__control:checked~label.sk-toggleable__label-arrow:before {content: \"▾\";}#sk-container-id-20 div.sk-estimator input.sk-toggleable__control:checked~label.sk-toggleable__label {background-color: #d4ebff;}#sk-container-id-20 div.sk-label input.sk-toggleable__control:checked~label.sk-toggleable__label {background-color: #d4ebff;}#sk-container-id-20 input.sk-hidden--visually {border: 0;clip: rect(1px 1px 1px 1px);clip: rect(1px, 1px, 1px, 1px);height: 1px;margin: -1px;overflow: hidden;padding: 0;position: absolute;width: 1px;}#sk-container-id-20 div.sk-estimator {font-family: monospace;background-color: #f0f8ff;border: 1px dotted black;border-radius: 0.25em;box-sizing: border-box;margin-bottom: 0.5em;}#sk-container-id-20 div.sk-estimator:hover {background-color: #d4ebff;}#sk-container-id-20 div.sk-parallel-item::after {content: \"\";width: 100%;border-bottom: 1px solid gray;flex-grow: 1;}#sk-container-id-20 div.sk-label:hover label.sk-toggleable__label {background-color: #d4ebff;}#sk-container-id-20 div.sk-serial::before {content: \"\";position: absolute;border-left: 1px solid gray;box-sizing: border-box;top: 0;bottom: 0;left: 50%;z-index: 0;}#sk-container-id-20 div.sk-serial {display: flex;flex-direction: column;align-items: center;background-color: white;padding-right: 0.2em;padding-left: 0.2em;position: relative;}#sk-container-id-20 div.sk-item {position: relative;z-index: 1;}#sk-container-id-20 div.sk-parallel {display: flex;align-items: stretch;justify-content: center;background-color: white;position: relative;}#sk-container-id-20 div.sk-item::before, #sk-container-id-20 div.sk-parallel-item::before {content: \"\";position: absolute;border-left: 1px solid gray;box-sizing: border-box;top: 0;bottom: 0;left: 50%;z-index: -1;}#sk-container-id-20 div.sk-parallel-item {display: flex;flex-direction: column;z-index: 1;position: relative;background-color: white;}#sk-container-id-20 div.sk-parallel-item:first-child::after {align-self: flex-end;width: 50%;}#sk-container-id-20 div.sk-parallel-item:last-child::after {align-self: flex-start;width: 50%;}#sk-container-id-20 div.sk-parallel-item:only-child::after {width: 0;}#sk-container-id-20 div.sk-dashed-wrapped {border: 1px dashed gray;margin: 0 0.4em 0.5em 0.4em;box-sizing: border-box;padding-bottom: 0.4em;background-color: white;}#sk-container-id-20 div.sk-label label {font-family: monospace;font-weight: bold;display: inline-block;line-height: 1.2em;}#sk-container-id-20 div.sk-label-container {text-align: center;}#sk-container-id-20 div.sk-container {/* jupyter's `normalize.less` sets `[hidden] { display: none; }` but bootstrap.min.css set `[hidden] { display: none !important; }` so we also need the `!important` here to be able to override the default hidden behavior on the sphinx rendered scikit-learn.org. See: https://github.com/scikit-learn/scikit-learn/issues/21755 */display: inline-block !important;position: relative;}#sk-container-id-20 div.sk-text-repr-fallback {display: none;}</style><div id=\"sk-container-id-20\" class=\"sk-top-container\"><div class=\"sk-text-repr-fallback\"><pre>CategoricalNB()</pre><b>In a Jupyter environment, please rerun this cell to show the HTML representation or trust the notebook. <br />On GitHub, the HTML representation is unable to render, please try loading this page with nbviewer.org.</b></div><div class=\"sk-container\" hidden><div class=\"sk-item\"><div class=\"sk-estimator sk-toggleable\"><input class=\"sk-toggleable__control sk-hidden--visually\" id=\"sk-estimator-id-20\" type=\"checkbox\" checked><label for=\"sk-estimator-id-20\" class=\"sk-toggleable__label sk-toggleable__label-arrow\">CategoricalNB</label><div class=\"sk-toggleable__content\"><pre>CategoricalNB()</pre></div></div></div></div></div>"
            ]
          },
          "metadata": {},
          "execution_count": 260
        }
      ]
    },
    {
      "cell_type": "code",
      "source": [
        "model_lst = [gauNB_model, multiNB_model, compNB_model, berNB_model, cateNB_model]\n",
        "\n",
        "for model in model_lst:\n",
        "    model_name = model.__class__.__name__\n",
        "    predict = model.predict(X_test_scaled)\n",
        "    print(\"*\" * 30)\n",
        "    print(f'{model_name} with MinMaxScaler: ')\n",
        "    print(classification_report(testY, predict))\n",
        "    print(accuracy_score(testY, predict))\n",
        "    print('*' * 30)"
      ],
      "metadata": {
        "colab": {
          "base_uri": "https://localhost:8080/"
        },
        "id": "Bo5CAKWW9FZ8",
        "outputId": "eaddd559-c6b3-4c5b-daf8-604135c32ab9"
      },
      "execution_count": 261,
      "outputs": [
        {
          "output_type": "stream",
          "name": "stdout",
          "text": [
            "******************************\n",
            "GaussianNB with MinMaxScaler: \n",
            "              precision    recall  f1-score   support\n",
            "\n",
            "           0       0.82      0.88      0.85       403\n",
            "           1       0.71      0.60      0.65       194\n",
            "\n",
            "    accuracy                           0.79       597\n",
            "   macro avg       0.76      0.74      0.75       597\n",
            "weighted avg       0.78      0.79      0.78       597\n",
            "\n",
            "0.7889447236180904\n",
            "******************************\n",
            "******************************\n",
            "MultinomialNB with MinMaxScaler: \n",
            "              precision    recall  f1-score   support\n",
            "\n",
            "           0       0.79      0.95      0.86       403\n",
            "           1       0.81      0.48      0.61       194\n",
            "\n",
            "    accuracy                           0.80       597\n",
            "   macro avg       0.80      0.71      0.73       597\n",
            "weighted avg       0.80      0.80      0.78       597\n",
            "\n",
            "0.7956448911222781\n",
            "******************************\n",
            "******************************\n",
            "ComplementNB with MinMaxScaler: \n",
            "              precision    recall  f1-score   support\n",
            "\n",
            "           0       0.81      0.85      0.83       403\n",
            "           1       0.65      0.60      0.62       194\n",
            "\n",
            "    accuracy                           0.77       597\n",
            "   macro avg       0.73      0.72      0.73       597\n",
            "weighted avg       0.76      0.77      0.76       597\n",
            "\n",
            "0.7654941373534339\n",
            "******************************\n",
            "******************************\n",
            "BernoulliNB with MinMaxScaler: \n",
            "              precision    recall  f1-score   support\n",
            "\n",
            "           0       0.80      0.92      0.86       403\n",
            "           1       0.76      0.53      0.63       194\n",
            "\n",
            "    accuracy                           0.79       597\n",
            "   macro avg       0.78      0.73      0.74       597\n",
            "weighted avg       0.79      0.79      0.78       597\n",
            "\n",
            "0.7939698492462312\n",
            "******************************\n",
            "******************************\n",
            "CategoricalNB with MinMaxScaler: \n",
            "              precision    recall  f1-score   support\n",
            "\n",
            "           0       0.79      0.93      0.85       403\n",
            "           1       0.77      0.48      0.59       194\n",
            "\n",
            "    accuracy                           0.78       597\n",
            "   macro avg       0.78      0.70      0.72       597\n",
            "weighted avg       0.78      0.78      0.77       597\n",
            "\n",
            "0.7839195979899497\n",
            "******************************\n"
          ]
        }
      ]
    },
    {
      "cell_type": "markdown",
      "source": [
        "## Phương pháp PCA"
      ],
      "metadata": {
        "id": "_Hnwby2p8zrw"
      }
    },
    {
      "cell_type": "markdown",
      "source": [
        "Đối với phương pháp PCA thì ta chỉ có thể sử dụng được với ba model là GaussianNB, BernoulliNB và CategoricalNB vì sau khi áp dụng PCA sẽ tạo ra các giá trị âm - không thể làm input vủa các model còn lại."
      ],
      "metadata": {
        "id": "6jyeAgPnzZQs"
      }
    },
    {
      "cell_type": "code",
      "source": [
        "pca = PCA()\n",
        "X_train_scaled_pca = pca.fit_transform(X_train_scaled)\n",
        "X_test_scaled_pca = pca.transform(X_test_scaled)"
      ],
      "metadata": {
        "id": "DxBzAZbw81R_"
      },
      "execution_count": 262,
      "outputs": []
    },
    {
      "cell_type": "code",
      "source": [
        "gauNB_model = GaussianNB()\n",
        "gauNB_model.fit(X_train_scaled_pca, trainY)\n",
        "\n",
        "berNB_model =  BernoulliNB()\n",
        "berNB_model.fit(X_train_scaled_pca, trainY)\n",
        "\n",
        "cateNB_model =  CategoricalNB()\n",
        "cateNB_model.fit(X_train_scaled_pca, trainY)"
      ],
      "metadata": {
        "colab": {
          "base_uri": "https://localhost:8080/",
          "height": 75
        },
        "id": "dEKGpyXO9MjH",
        "outputId": "b36348f2-b465-4176-9ea3-81f22b3f7635"
      },
      "execution_count": 263,
      "outputs": [
        {
          "output_type": "execute_result",
          "data": {
            "text/plain": [
              "CategoricalNB()"
            ],
            "text/html": [
              "<style>#sk-container-id-21 {color: black;background-color: white;}#sk-container-id-21 pre{padding: 0;}#sk-container-id-21 div.sk-toggleable {background-color: white;}#sk-container-id-21 label.sk-toggleable__label {cursor: pointer;display: block;width: 100%;margin-bottom: 0;padding: 0.3em;box-sizing: border-box;text-align: center;}#sk-container-id-21 label.sk-toggleable__label-arrow:before {content: \"▸\";float: left;margin-right: 0.25em;color: #696969;}#sk-container-id-21 label.sk-toggleable__label-arrow:hover:before {color: black;}#sk-container-id-21 div.sk-estimator:hover label.sk-toggleable__label-arrow:before {color: black;}#sk-container-id-21 div.sk-toggleable__content {max-height: 0;max-width: 0;overflow: hidden;text-align: left;background-color: #f0f8ff;}#sk-container-id-21 div.sk-toggleable__content pre {margin: 0.2em;color: black;border-radius: 0.25em;background-color: #f0f8ff;}#sk-container-id-21 input.sk-toggleable__control:checked~div.sk-toggleable__content {max-height: 200px;max-width: 100%;overflow: auto;}#sk-container-id-21 input.sk-toggleable__control:checked~label.sk-toggleable__label-arrow:before {content: \"▾\";}#sk-container-id-21 div.sk-estimator input.sk-toggleable__control:checked~label.sk-toggleable__label {background-color: #d4ebff;}#sk-container-id-21 div.sk-label input.sk-toggleable__control:checked~label.sk-toggleable__label {background-color: #d4ebff;}#sk-container-id-21 input.sk-hidden--visually {border: 0;clip: rect(1px 1px 1px 1px);clip: rect(1px, 1px, 1px, 1px);height: 1px;margin: -1px;overflow: hidden;padding: 0;position: absolute;width: 1px;}#sk-container-id-21 div.sk-estimator {font-family: monospace;background-color: #f0f8ff;border: 1px dotted black;border-radius: 0.25em;box-sizing: border-box;margin-bottom: 0.5em;}#sk-container-id-21 div.sk-estimator:hover {background-color: #d4ebff;}#sk-container-id-21 div.sk-parallel-item::after {content: \"\";width: 100%;border-bottom: 1px solid gray;flex-grow: 1;}#sk-container-id-21 div.sk-label:hover label.sk-toggleable__label {background-color: #d4ebff;}#sk-container-id-21 div.sk-serial::before {content: \"\";position: absolute;border-left: 1px solid gray;box-sizing: border-box;top: 0;bottom: 0;left: 50%;z-index: 0;}#sk-container-id-21 div.sk-serial {display: flex;flex-direction: column;align-items: center;background-color: white;padding-right: 0.2em;padding-left: 0.2em;position: relative;}#sk-container-id-21 div.sk-item {position: relative;z-index: 1;}#sk-container-id-21 div.sk-parallel {display: flex;align-items: stretch;justify-content: center;background-color: white;position: relative;}#sk-container-id-21 div.sk-item::before, #sk-container-id-21 div.sk-parallel-item::before {content: \"\";position: absolute;border-left: 1px solid gray;box-sizing: border-box;top: 0;bottom: 0;left: 50%;z-index: -1;}#sk-container-id-21 div.sk-parallel-item {display: flex;flex-direction: column;z-index: 1;position: relative;background-color: white;}#sk-container-id-21 div.sk-parallel-item:first-child::after {align-self: flex-end;width: 50%;}#sk-container-id-21 div.sk-parallel-item:last-child::after {align-self: flex-start;width: 50%;}#sk-container-id-21 div.sk-parallel-item:only-child::after {width: 0;}#sk-container-id-21 div.sk-dashed-wrapped {border: 1px dashed gray;margin: 0 0.4em 0.5em 0.4em;box-sizing: border-box;padding-bottom: 0.4em;background-color: white;}#sk-container-id-21 div.sk-label label {font-family: monospace;font-weight: bold;display: inline-block;line-height: 1.2em;}#sk-container-id-21 div.sk-label-container {text-align: center;}#sk-container-id-21 div.sk-container {/* jupyter's `normalize.less` sets `[hidden] { display: none; }` but bootstrap.min.css set `[hidden] { display: none !important; }` so we also need the `!important` here to be able to override the default hidden behavior on the sphinx rendered scikit-learn.org. See: https://github.com/scikit-learn/scikit-learn/issues/21755 */display: inline-block !important;position: relative;}#sk-container-id-21 div.sk-text-repr-fallback {display: none;}</style><div id=\"sk-container-id-21\" class=\"sk-top-container\"><div class=\"sk-text-repr-fallback\"><pre>CategoricalNB()</pre><b>In a Jupyter environment, please rerun this cell to show the HTML representation or trust the notebook. <br />On GitHub, the HTML representation is unable to render, please try loading this page with nbviewer.org.</b></div><div class=\"sk-container\" hidden><div class=\"sk-item\"><div class=\"sk-estimator sk-toggleable\"><input class=\"sk-toggleable__control sk-hidden--visually\" id=\"sk-estimator-id-21\" type=\"checkbox\" checked><label for=\"sk-estimator-id-21\" class=\"sk-toggleable__label sk-toggleable__label-arrow\">CategoricalNB</label><div class=\"sk-toggleable__content\"><pre>CategoricalNB()</pre></div></div></div></div></div>"
            ]
          },
          "metadata": {},
          "execution_count": 263
        }
      ]
    },
    {
      "cell_type": "code",
      "source": [
        "model_lst = [gauNB_model, berNB_model, cateNB_model]\n",
        "\n",
        "for model in model_lst:\n",
        "    model_name = model.__class__.__name__\n",
        "    predict = model.predict(X_test_scaled_pca)\n",
        "    print(\"*\" * 30)\n",
        "    print(f'{model_name} with PCA:')\n",
        "    print(classification_report(testY, predict))\n",
        "    print(accuracy_score(testY, predict))\n",
        "    print('*' * 30)"
      ],
      "metadata": {
        "colab": {
          "base_uri": "https://localhost:8080/"
        },
        "id": "EzIkbQ5z9NtE",
        "outputId": "24f2aa5f-a3e4-4f18-ec7d-7689732830a8"
      },
      "execution_count": 264,
      "outputs": [
        {
          "output_type": "stream",
          "name": "stdout",
          "text": [
            "******************************\n",
            "GaussianNB with PCA:\n",
            "              precision    recall  f1-score   support\n",
            "\n",
            "           0       0.82      0.92      0.87       403\n",
            "           1       0.77      0.58      0.66       194\n",
            "\n",
            "    accuracy                           0.81       597\n",
            "   macro avg       0.79      0.75      0.76       597\n",
            "weighted avg       0.80      0.81      0.80       597\n",
            "\n",
            "0.8073701842546064\n",
            "******************************\n",
            "******************************\n",
            "BernoulliNB with PCA:\n",
            "              precision    recall  f1-score   support\n",
            "\n",
            "           0       0.82      0.90      0.86       403\n",
            "           1       0.74      0.60      0.66       194\n",
            "\n",
            "    accuracy                           0.80       597\n",
            "   macro avg       0.78      0.75      0.76       597\n",
            "weighted avg       0.80      0.80      0.79       597\n",
            "\n",
            "0.8006700167504187\n",
            "******************************\n",
            "******************************\n",
            "CategoricalNB with PCA:\n",
            "              precision    recall  f1-score   support\n",
            "\n",
            "           0       0.72      0.99      0.84       403\n",
            "           1       0.93      0.20      0.33       194\n",
            "\n",
            "    accuracy                           0.74       597\n",
            "   macro avg       0.82      0.60      0.58       597\n",
            "weighted avg       0.79      0.74      0.67       597\n",
            "\n",
            "0.7353433835845896\n",
            "******************************\n"
          ]
        }
      ]
    },
    {
      "cell_type": "markdown",
      "source": [
        "## Chọn ra Model Naive Bayes phù hợp nhất."
      ],
      "metadata": {
        "id": "V8tU_NEC279L"
      }
    },
    {
      "cell_type": "markdown",
      "source": [
        "Tập dữ liệu với 1277 bản ghi label 0 và 710 bản ghi label 1 có sự mất cân bằng đáng kể giữa hai lớp và được xem là một trường hợp imbalance trong bài toán phân loại. Tỷ lệ giữa các lớp chênh lệch khác lớn khi lớp 1 chỉ chiếm khoảng 36% tổng số dữ liệu.\\\n",
        "Khi một trong hai lớp chiếm phần lớn số lượng dữ liệu, mô hình huấn luyện có thể có xu hướng dự đoán theo lớp đa số, dẫn đến kết quả phân loại không chính xác cho lớp thiểu số. Điều đó cũng được thể hiện khi mà các model ta đã xây dựng ở phía trên đa phần đều thể hiện rất tệ trên label 1 (Mua bảo hiểm) nhưng lại khá tốt trên label 0 (Không mua bảo hiểm)."
      ],
      "metadata": {
        "id": "Bmo5KDAlT2u3"
      }
    },
    {
      "cell_type": "markdown",
      "source": [
        "Khi hiện tượng mất cân bằng dữ liệu nghiêm trọng xảy ra thì việc sử dụng độ accuracy làm thước đo đánh giá mô hình thường không hiệu quả bởi hầu hết chúng đều đạt độ chính xác rất cao. Một mô hình ngẫu nhiên dự báo toàn bộ là nhãn thuộc nhóm đa số cũng sẽ mang lại kết quả gần bằng 100%. Khi đó ta có thể cân nhắc tới một số metrics thay thế như precision, recall, f1-score,.... Các chỉ số này sẽ không quá lớn để dẫn tới ngộ nhận độ chính xác, đồng thời chúng tập trung hơn vào việc đánh giá độ chính xác trên nhóm thiểu số, nhóm mà chúng ta muốn dự báo chính xác hơn so với nhóm đa số."
      ],
      "metadata": {
        "id": "NwGNQRJxhRJI"
      }
    },
    {
      "cell_type": "markdown",
      "source": [
        "Vì đây là bài toán dự đoán hành vi mua bảo hiểm của một khách hàng, cho nên xây dựng mô hình ta cần chú ý vào 2 tiêu chí:\n",
        "\n",
        "- Recall: Việc bao phủ được hết các khách hàng có thể muốn mua bảo hiểm là mục tiêu cốt lõi của chiến lược tiếp thị, giúp sản phẩm hoặc dịch vụ đến được với nhiều khách hàng tiềm năng nhất có thể. \n",
        "\n",
        "- Precision: Tuy nhiên, việc dự đoán chính xác được khách hàng nào mua hàng cũng là rất quan trọng. Nếu một công ty có thể tăng xác suất dự đoán được những khách hàng cụ thể nào sẽ mua sản phẩm của họ, họ có thể tập trung vào những nỗ lực tiếp thị đến các khách hàng đó để tối đa hóa khả năng bán hàng, giúp giảm thiểu chi phí, tiết kiệm thời gian và nguồn nhân lực.\n",
        "\n",
        "Vì vậy, để đánh giá các model được xây dựng, ở đây ta sẽ kết hợp cả hai mục tiêu, tập trung vào việc bao phủ được nhiều khách hàng tiềm năng nhất có thể, đồng thời cải thiện khả năng dự đoán chính xác khách hàng mua hàng để tối đa hóa lợi nhuận cũng như thời gian. Lúc này, ta sẽ xem xét đánh giá model qua F1-score."
      ],
      "metadata": {
        "id": "kU4Ro5gYIwhF"
      }
    },
    {
      "cell_type": "markdown",
      "source": [
        "Với các model đã xây dựng ở trên, ta sẽ chú ý vào label 1, là lớp các khách hàng mua bảo hiểm, thì ta thấy có 2 model là thu được kết quả giữa Precission và Recall không có sự chêch lệch quá không lớn, đồng thời F1-score cũng tạm chấp nhận so với các model còn lại. Đó là:\n",
        "- GaussianNB với dữ liệu sau khi đã được scale, cho ra kết quả trên label 1 là Precissin: 0.71, Recall: 0.60, F1-score: 0.65 và Accuracy là 0.79\n",
        "- ComplementNB với dữ liệu sau khi scale, cho ra kết quả trên label 1 là Precissin: 0.65, Recall: 0.60, F1-score: 0.62 và Accuracy là 0.77.\n",
        "\n",
        "Trong tài liệu về Naive Bayes của Scikit-learn thì có nhắc đến việc model ComplementNB sẽ phù hớp với các tập dữ liệu bị imbalance, nhưng theo đánh giá thì nó cũng chưa thể hiện được nhiều."
      ],
      "metadata": {
        "id": "KgkLCZKPB1Xd"
      }
    },
    {
      "cell_type": "markdown",
      "source": [
        "### Grid-Search"
      ],
      "metadata": {
        "id": "wJglGncPihl1"
      }
    },
    {
      "cell_type": "markdown",
      "source": [
        "Để đánh giá một cách công bằng nhất, ta sẽ tiến hành Grid search với tất cả 5 model, với metric được chọn sẽ tối ưu là `F1-score`. \\\n",
        "Vì ComplementNB và MultinomialNB là 2 thuật toán không thể sử dụng cùng lúc với PCA (khi dùng PCA thì các input sẽ xuất hiện các số âm, mà các model này không nhận đầu vào là 1 số âm) nên đối với 2 thuật toán này, ta chỉ áp dụng kỹ thuật scaler."
      ],
      "metadata": {
        "id": "lBsw5AzXU9ZW"
      }
    },
    {
      "cell_type": "markdown",
      "source": [
        "#### GridSearch với GaussianNB"
      ],
      "metadata": {
        "id": "8sBDDC-aV7A1"
      }
    },
    {
      "cell_type": "code",
      "source": [
        "pca = PCA()\n",
        "gau_nb = GaussianNB()\n",
        "scaler = MinMaxScaler()\n",
        "pipe = Pipeline(steps=[(\"scaler\", scaler),(\"pca\", pca), (\"gau_nb\", gau_nb)])\n",
        "\n",
        "var_smoothing_values = np.linspace(0, 1, 100)\n",
        "'''scoring = {'F1_score': make_scorer(f1_score, pos_label=1)}'''\n",
        "\n",
        "param_grid = {\n",
        "    \"scaler__feature_range\": [(-1, 1), (0, 1)],\n",
        "    \"pca__n_components\": [1, 2, 3, 4, 5, 6, 7, 8, None],\n",
        "    'gau_nb__var_smoothing': var_smoothing_values\n",
        "    }\n",
        "\n",
        "search = GridSearchCV(pipe, param_grid, scoring='f1', n_jobs=2)\n",
        "search.fit(trainX, trainY)\n",
        "print(\"Best parameter (CV score=%0.3f):\" % search.best_score_)\n",
        "print(search.best_params_)\n",
        "predicted_label = search.predict(testX)\n",
        "print(classification_report(testY, predicted_label))"
      ],
      "metadata": {
        "id": "hrC2CsACi7Ud",
        "colab": {
          "base_uri": "https://localhost:8080/"
        },
        "outputId": "bbc41a54-74bb-4d53-a232-1af117441547"
      },
      "execution_count": 265,
      "outputs": [
        {
          "output_type": "stream",
          "name": "stdout",
          "text": [
            "Best parameter (CV score=0.596):\n",
            "{'gau_nb__var_smoothing': 0.010101010101010102, 'pca__n_components': 8, 'scaler__feature_range': (-1, 1)}\n",
            "              precision    recall  f1-score   support\n",
            "\n",
            "           0       0.82      0.93      0.87       403\n",
            "           1       0.80      0.58      0.67       194\n",
            "\n",
            "    accuracy                           0.82       597\n",
            "   macro avg       0.81      0.75      0.77       597\n",
            "weighted avg       0.81      0.82      0.81       597\n",
            "\n"
          ]
        }
      ]
    },
    {
      "cell_type": "markdown",
      "source": [
        "#### GridSearch với BernoulliNB."
      ],
      "metadata": {
        "id": "1NaBIQ0BWhCd"
      }
    },
    {
      "cell_type": "code",
      "source": [
        "pca = PCA()\n",
        "ber_nb = BernoulliNB()\n",
        "scaler = MinMaxScaler()\n",
        "pipe = Pipeline(steps=[(\"scaler\", scaler),(\"pca\", pca), (\"ber_nb\", ber_nb)])\n",
        "\n",
        "\n",
        "alpha_values = np.linspace(0, 1, 100)\n",
        "param_grid = {\n",
        "    \"scaler__feature_range\": [(-1, 1), (0, 1)],\n",
        "    \"pca__n_components\": [1, 2, 3, 4, 5, 6, 7, 8, None],\n",
        "    'ber_nb__alpha': alpha_values\n",
        "    }\n",
        "\n",
        "search = GridSearchCV(pipe, param_grid, scoring=\"f1\", n_jobs=2)\n",
        "search.fit(trainX, trainY)\n",
        "print(\"Best parameter (CV score=%0.3f):\" % search.best_score_)\n",
        "print(search.best_params_)\n",
        "\n",
        "from sklearn.metrics import precision_score, recall_score, f1_score, classification_report\n",
        "predicted_label = search.predict(testX)\n",
        "print(classification_report(testY, predicted_label))"
      ],
      "metadata": {
        "colab": {
          "base_uri": "https://localhost:8080/"
        },
        "id": "o8Wzf_ooQOCb",
        "outputId": "86c742e0-4f74-48c1-fd49-f184dbf981bf"
      },
      "execution_count": 266,
      "outputs": [
        {
          "output_type": "stream",
          "name": "stdout",
          "text": [
            "Best parameter (CV score=0.540):\n",
            "{'ber_nb__alpha': 0.0, 'pca__n_components': 7, 'scaler__feature_range': (-1, 1)}\n",
            "              precision    recall  f1-score   support\n",
            "\n",
            "           0       0.80      0.85      0.82       403\n",
            "           1       0.64      0.56      0.59       194\n",
            "\n",
            "    accuracy                           0.75       597\n",
            "   macro avg       0.72      0.70      0.71       597\n",
            "weighted avg       0.75      0.75      0.75       597\n",
            "\n"
          ]
        },
        {
          "output_type": "stream",
          "name": "stderr",
          "text": [
            "/usr/local/lib/python3.9/dist-packages/sklearn/naive_bayes.py:629: FutureWarning: The default value for `force_alpha` will change to `True` in 1.4. To suppress this warning, manually set the value of `force_alpha`.\n",
            "  warnings.warn(\n",
            "/usr/local/lib/python3.9/dist-packages/sklearn/naive_bayes.py:635: UserWarning: alpha too small will result in numeric errors, setting alpha = 1.0e-10. Use `force_alpha=True` to keep alpha unchanged.\n",
            "  warnings.warn(\n"
          ]
        }
      ]
    },
    {
      "cell_type": "markdown",
      "source": [
        "#### GridSearch với CategoricalNB"
      ],
      "metadata": {
        "id": "blCmvpIfWt6b"
      }
    },
    {
      "cell_type": "code",
      "source": [
        "pca = PCA()\n",
        "cate_nb = CategoricalNB()\n",
        "scaler = MinMaxScaler()\n",
        "pipe = Pipeline(steps=[(\"scaler\", scaler),(\"pca\", pca), (\"cate_nb\", cate_nb)])\n",
        "\n",
        "\n",
        "alpha_values = np.linspace(0, 1, 100)\n",
        "param_grid = {\n",
        "    \"scaler__feature_range\": [(-1, 1), (0, 1)],\n",
        "    \"pca__n_components\": [1, 2, 3, 4, 5, 6, 7, 8, None],\n",
        "    'cate_nb__alpha': alpha_values\n",
        "    }\n",
        "\n",
        "search = GridSearchCV(pipe, param_grid, scoring=\"f1\", n_jobs=2)\n",
        "search.fit(trainX, trainY)\n",
        "print(\"Best parameter (CV score=%0.3f):\" % search.best_score_)\n",
        "print(search.best_params_)\n",
        "\n",
        "from sklearn.metrics import precision_score, recall_score, f1_score, classification_report\n",
        "predicted_label = search.predict(testX)\n",
        "print(classification_report(testY, predicted_label))"
      ],
      "metadata": {
        "colab": {
          "base_uri": "https://localhost:8080/"
        },
        "id": "3Bj-v1tvTMrl",
        "outputId": "bdb5f4fd-a27d-4cb4-816d-54e0100c4911"
      },
      "execution_count": 267,
      "outputs": [
        {
          "output_type": "stream",
          "name": "stdout",
          "text": [
            "Best parameter (CV score=0.260):\n",
            "{'cate_nb__alpha': 0.0, 'pca__n_components': 5, 'scaler__feature_range': (0, 1)}\n",
            "              precision    recall  f1-score   support\n",
            "\n",
            "           0       0.72      0.99      0.84       403\n",
            "           1       0.93      0.20      0.33       194\n",
            "\n",
            "    accuracy                           0.74       597\n",
            "   macro avg       0.82      0.60      0.58       597\n",
            "weighted avg       0.79      0.74      0.67       597\n",
            "\n"
          ]
        },
        {
          "output_type": "stream",
          "name": "stderr",
          "text": [
            "/usr/local/lib/python3.9/dist-packages/sklearn/model_selection/_validation.py:378: FitFailedWarning: \n",
            "4500 fits failed out of a total of 9000.\n",
            "The score on these train-test partitions for these parameters will be set to nan.\n",
            "If these failures are not expected, you can try to debug them by setting error_score='raise'.\n",
            "\n",
            "Below are more details about the failures:\n",
            "--------------------------------------------------------------------------------\n",
            "4500 fits failed with the following error:\n",
            "Traceback (most recent call last):\n",
            "  File \"/usr/local/lib/python3.9/dist-packages/sklearn/model_selection/_validation.py\", line 686, in _fit_and_score\n",
            "    estimator.fit(X_train, y_train, **fit_params)\n",
            "  File \"/usr/local/lib/python3.9/dist-packages/sklearn/pipeline.py\", line 405, in fit\n",
            "    self._final_estimator.fit(Xt, y, **fit_params_last_step)\n",
            "  File \"/usr/local/lib/python3.9/dist-packages/sklearn/naive_bayes.py\", line 1395, in fit\n",
            "    return super().fit(X, y, sample_weight=sample_weight)\n",
            "  File \"/usr/local/lib/python3.9/dist-packages/sklearn/naive_bayes.py\", line 749, in fit\n",
            "    X, y = self._check_X_y(X, y)\n",
            "  File \"/usr/local/lib/python3.9/dist-packages/sklearn/naive_bayes.py\", line 1456, in _check_X_y\n",
            "    check_non_negative(X, \"CategoricalNB (input X)\")\n",
            "  File \"/usr/local/lib/python3.9/dist-packages/sklearn/utils/validation.py\", line 1418, in check_non_negative\n",
            "    raise ValueError(\"Negative values in data passed to %s\" % whom)\n",
            "ValueError: Negative values in data passed to CategoricalNB (input X)\n",
            "\n",
            "  warnings.warn(some_fits_failed_message, FitFailedWarning)\n",
            "/usr/local/lib/python3.9/dist-packages/sklearn/model_selection/_search.py:952: UserWarning: One or more of the test scores are non-finite: [       nan 0.22561864        nan ... 0.26045346        nan 0.26045346]\n",
            "  warnings.warn(\n",
            "/usr/local/lib/python3.9/dist-packages/sklearn/naive_bayes.py:629: FutureWarning: The default value for `force_alpha` will change to `True` in 1.4. To suppress this warning, manually set the value of `force_alpha`.\n",
            "  warnings.warn(\n",
            "/usr/local/lib/python3.9/dist-packages/sklearn/naive_bayes.py:635: UserWarning: alpha too small will result in numeric errors, setting alpha = 1.0e-10. Use `force_alpha=True` to keep alpha unchanged.\n",
            "  warnings.warn(\n"
          ]
        }
      ]
    },
    {
      "cell_type": "markdown",
      "source": [
        "#### GridSearch với ComplementNB."
      ],
      "metadata": {
        "id": "lwoqwgX4W3bd"
      }
    },
    {
      "cell_type": "code",
      "source": [
        "comp_nb = ComplementNB()\n",
        "scaler = MinMaxScaler()\n",
        "pipe = Pipeline(steps=[(\"scaler\", scaler), (\"comp_nb\", comp_nb)])\n",
        "\n",
        "alpha_values = np.linspace(0, 1, 100)\n",
        "param_grid = {\n",
        "    \"scaler__feature_range\": [(-1, 1), (0, 1)],\n",
        "    'comp_nb__alpha': alpha_values\n",
        "    }\n",
        "\n",
        "search = GridSearchCV(pipe, param_grid, scoring=\"f1\", n_jobs=2)\n",
        "search.fit(trainX, trainY)\n",
        "print(\"Best parameter (CV score=%0.3f):\" % search.best_score_)\n",
        "print(search.best_params_)\n",
        "\n",
        "from sklearn.metrics import precision_score, recall_score, f1_score, classification_report\n",
        "predicted_label = search.predict(testX)\n",
        "print(classification_report(testY, predicted_label))"
      ],
      "metadata": {
        "colab": {
          "base_uri": "https://localhost:8080/"
        },
        "id": "Rdfdn7-pMxM7",
        "outputId": "2231fc84-3103-4ab3-a718-72ff1c908ca3"
      },
      "execution_count": 268,
      "outputs": [
        {
          "output_type": "stream",
          "name": "stdout",
          "text": [
            "Best parameter (CV score=0.562):\n",
            "{'comp_nb__alpha': 0.0, 'scaler__feature_range': (0, 1)}\n",
            "              precision    recall  f1-score   support\n",
            "\n",
            "           0       0.81      0.85      0.83       403\n",
            "           1       0.65      0.60      0.62       194\n",
            "\n",
            "    accuracy                           0.77       597\n",
            "   macro avg       0.73      0.72      0.73       597\n",
            "weighted avg       0.76      0.77      0.76       597\n",
            "\n"
          ]
        },
        {
          "output_type": "stream",
          "name": "stderr",
          "text": [
            "/usr/local/lib/python3.9/dist-packages/sklearn/model_selection/_validation.py:378: FitFailedWarning: \n",
            "500 fits failed out of a total of 1000.\n",
            "The score on these train-test partitions for these parameters will be set to nan.\n",
            "If these failures are not expected, you can try to debug them by setting error_score='raise'.\n",
            "\n",
            "Below are more details about the failures:\n",
            "--------------------------------------------------------------------------------\n",
            "500 fits failed with the following error:\n",
            "Traceback (most recent call last):\n",
            "  File \"/usr/local/lib/python3.9/dist-packages/sklearn/model_selection/_validation.py\", line 686, in _fit_and_score\n",
            "    estimator.fit(X_train, y_train, **fit_params)\n",
            "  File \"/usr/local/lib/python3.9/dist-packages/sklearn/pipeline.py\", line 405, in fit\n",
            "    self._final_estimator.fit(Xt, y, **fit_params_last_step)\n",
            "  File \"/usr/local/lib/python3.9/dist-packages/sklearn/naive_bayes.py\", line 776, in fit\n",
            "    self._count(X, Y)\n",
            "  File \"/usr/local/lib/python3.9/dist-packages/sklearn/naive_bayes.py\", line 1044, in _count\n",
            "    check_non_negative(X, \"ComplementNB (input X)\")\n",
            "  File \"/usr/local/lib/python3.9/dist-packages/sklearn/utils/validation.py\", line 1418, in check_non_negative\n",
            "    raise ValueError(\"Negative values in data passed to %s\" % whom)\n",
            "ValueError: Negative values in data passed to ComplementNB (input X)\n",
            "\n",
            "  warnings.warn(some_fits_failed_message, FitFailedWarning)\n",
            "/usr/local/lib/python3.9/dist-packages/sklearn/model_selection/_search.py:952: UserWarning: One or more of the test scores are non-finite: [       nan 0.56198401        nan 0.56198401        nan 0.56198401\n",
            "        nan 0.56198401        nan 0.56198401        nan 0.56198401\n",
            "        nan 0.56198401        nan 0.56198401        nan 0.56198401\n",
            "        nan 0.56198401        nan 0.56198401        nan 0.56198401\n",
            "        nan 0.56198401        nan 0.56198401        nan 0.56198401\n",
            "        nan 0.56198401        nan 0.56198401        nan 0.56198401\n",
            "        nan 0.56198401        nan 0.56198401        nan 0.56198401\n",
            "        nan 0.56198401        nan 0.56198401        nan 0.56198401\n",
            "        nan 0.56198401        nan 0.56198401        nan 0.56198401\n",
            "        nan 0.56198401        nan 0.56198401        nan 0.56198401\n",
            "        nan 0.56198401        nan 0.56198401        nan 0.56198401\n",
            "        nan 0.56198401        nan 0.56198401        nan 0.56198401\n",
            "        nan 0.56198401        nan 0.56198401        nan 0.56198401\n",
            "        nan 0.56198401        nan 0.56198401        nan 0.56198401\n",
            "        nan 0.56198401        nan 0.56198401        nan 0.56198401\n",
            "        nan 0.56198401        nan 0.56198401        nan 0.56198401\n",
            "        nan 0.56198401        nan 0.56198401        nan 0.56198401\n",
            "        nan 0.56198401        nan 0.56198401        nan 0.56198401\n",
            "        nan 0.56198401        nan 0.56198401        nan 0.56198401\n",
            "        nan 0.56198401        nan 0.56198401        nan 0.56198401\n",
            "        nan 0.56198401        nan 0.56198401        nan 0.56198401\n",
            "        nan 0.56198401        nan 0.56198401        nan 0.56198401\n",
            "        nan 0.56198401        nan 0.56198401        nan 0.56198401\n",
            "        nan 0.56198401        nan 0.56198401        nan 0.56198401\n",
            "        nan 0.56198401        nan 0.56198401        nan 0.56198401\n",
            "        nan 0.56198401        nan 0.56198401        nan 0.56198401\n",
            "        nan 0.56198401        nan 0.56198401        nan 0.56198401\n",
            "        nan 0.56198401        nan 0.56198401        nan 0.56198401\n",
            "        nan 0.56198401        nan 0.56198401        nan 0.56198401\n",
            "        nan 0.56198401        nan 0.56198401        nan 0.56198401\n",
            "        nan 0.56198401        nan 0.56198401        nan 0.56198401\n",
            "        nan 0.56198401        nan 0.56198401        nan 0.56198401\n",
            "        nan 0.56198401        nan 0.56198401        nan 0.56198401\n",
            "        nan 0.56198401]\n",
            "  warnings.warn(\n",
            "/usr/local/lib/python3.9/dist-packages/sklearn/naive_bayes.py:629: FutureWarning: The default value for `force_alpha` will change to `True` in 1.4. To suppress this warning, manually set the value of `force_alpha`.\n",
            "  warnings.warn(\n",
            "/usr/local/lib/python3.9/dist-packages/sklearn/naive_bayes.py:635: UserWarning: alpha too small will result in numeric errors, setting alpha = 1.0e-10. Use `force_alpha=True` to keep alpha unchanged.\n",
            "  warnings.warn(\n"
          ]
        }
      ]
    },
    {
      "cell_type": "markdown",
      "source": [
        "#### GridSearch với MultinomialNB."
      ],
      "metadata": {
        "id": "HmzG02OEXB-Y"
      }
    },
    {
      "cell_type": "code",
      "source": [
        "multi_nb = MultinomialNB()\n",
        "scaler = MinMaxScaler()\n",
        "pipe = Pipeline(steps=[(\"scaler\", scaler), (\"multi_nb\", multi_nb)])\n",
        "alpha_values = np.linspace(0, 1, 100)\n",
        "param_grid = {\n",
        "    \"scaler__feature_range\": [(-1, 1), (0, 1)],\n",
        "    'multi_nb__alpha': alpha_values\n",
        "    }\n",
        "\n",
        "search = GridSearchCV(pipe, param_grid, scoring=\"f1\", n_jobs=2)\n",
        "search.fit(trainX, trainY)\n",
        "print(\"Best parameter (CV score=%0.3f):\" % search.best_score_)\n",
        "print(search.best_params_)\n",
        "\n",
        "from sklearn.metrics import precision_score, recall_score, f1_score, classification_report\n",
        "predicted_label = search.predict(testX)\n",
        "print(classification_report(testY, predicted_label))"
      ],
      "metadata": {
        "colab": {
          "base_uri": "https://localhost:8080/"
        },
        "id": "B8iXKA3LOVtA",
        "outputId": "b359aa50-0371-4931-a207-369d734dcd2d"
      },
      "execution_count": 269,
      "outputs": [
        {
          "output_type": "stream",
          "name": "stdout",
          "text": [
            "Best parameter (CV score=0.536):\n",
            "{'multi_nb__alpha': 0.0, 'scaler__feature_range': (0, 1)}\n",
            "              precision    recall  f1-score   support\n",
            "\n",
            "           0       0.79      0.95      0.86       403\n",
            "           1       0.81      0.48      0.61       194\n",
            "\n",
            "    accuracy                           0.80       597\n",
            "   macro avg       0.80      0.71      0.73       597\n",
            "weighted avg       0.80      0.80      0.78       597\n",
            "\n"
          ]
        },
        {
          "output_type": "stream",
          "name": "stderr",
          "text": [
            "/usr/local/lib/python3.9/dist-packages/sklearn/model_selection/_validation.py:378: FitFailedWarning: \n",
            "500 fits failed out of a total of 1000.\n",
            "The score on these train-test partitions for these parameters will be set to nan.\n",
            "If these failures are not expected, you can try to debug them by setting error_score='raise'.\n",
            "\n",
            "Below are more details about the failures:\n",
            "--------------------------------------------------------------------------------\n",
            "500 fits failed with the following error:\n",
            "Traceback (most recent call last):\n",
            "  File \"/usr/local/lib/python3.9/dist-packages/sklearn/model_selection/_validation.py\", line 686, in _fit_and_score\n",
            "    estimator.fit(X_train, y_train, **fit_params)\n",
            "  File \"/usr/local/lib/python3.9/dist-packages/sklearn/pipeline.py\", line 405, in fit\n",
            "    self._final_estimator.fit(Xt, y, **fit_params_last_step)\n",
            "  File \"/usr/local/lib/python3.9/dist-packages/sklearn/naive_bayes.py\", line 776, in fit\n",
            "    self._count(X, Y)\n",
            "  File \"/usr/local/lib/python3.9/dist-packages/sklearn/naive_bayes.py\", line 898, in _count\n",
            "    check_non_negative(X, \"MultinomialNB (input X)\")\n",
            "  File \"/usr/local/lib/python3.9/dist-packages/sklearn/utils/validation.py\", line 1418, in check_non_negative\n",
            "    raise ValueError(\"Negative values in data passed to %s\" % whom)\n",
            "ValueError: Negative values in data passed to MultinomialNB (input X)\n",
            "\n",
            "  warnings.warn(some_fits_failed_message, FitFailedWarning)\n",
            "/usr/local/lib/python3.9/dist-packages/sklearn/model_selection/_search.py:952: UserWarning: One or more of the test scores are non-finite: [       nan 0.53638629        nan 0.53638629        nan 0.53638629\n",
            "        nan 0.53638629        nan 0.53638629        nan 0.53638629\n",
            "        nan 0.53638629        nan 0.53638629        nan 0.53638629\n",
            "        nan 0.53638629        nan 0.53638629        nan 0.53638629\n",
            "        nan 0.53638629        nan 0.53638629        nan 0.53638629\n",
            "        nan 0.53638629        nan 0.53638629        nan 0.53638629\n",
            "        nan 0.53638629        nan 0.53638629        nan 0.53638629\n",
            "        nan 0.53638629        nan 0.53638629        nan 0.53638629\n",
            "        nan 0.53638629        nan 0.53638629        nan 0.53638629\n",
            "        nan 0.53638629        nan 0.53638629        nan 0.53638629\n",
            "        nan 0.53638629        nan 0.53638629        nan 0.53638629\n",
            "        nan 0.53638629        nan 0.53638629        nan 0.53638629\n",
            "        nan 0.53638629        nan 0.53638629        nan 0.53638629\n",
            "        nan 0.53638629        nan 0.53638629        nan 0.53638629\n",
            "        nan 0.53638629        nan 0.53638629        nan 0.53638629\n",
            "        nan 0.53638629        nan 0.53638629        nan 0.53638629\n",
            "        nan 0.53638629        nan 0.53638629        nan 0.53638629\n",
            "        nan 0.53638629        nan 0.53638629        nan 0.53638629\n",
            "        nan 0.53638629        nan 0.53638629        nan 0.53638629\n",
            "        nan 0.53638629        nan 0.53638629        nan 0.53638629\n",
            "        nan 0.53638629        nan 0.53638629        nan 0.53638629\n",
            "        nan 0.53638629        nan 0.53638629        nan 0.53638629\n",
            "        nan 0.53638629        nan 0.53638629        nan 0.53638629\n",
            "        nan 0.53638629        nan 0.53638629        nan 0.53638629\n",
            "        nan 0.53638629        nan 0.53638629        nan 0.53638629\n",
            "        nan 0.53638629        nan 0.53638629        nan 0.53638629\n",
            "        nan 0.53638629        nan 0.53638629        nan 0.53638629\n",
            "        nan 0.53638629        nan 0.53638629        nan 0.53638629\n",
            "        nan 0.53638629        nan 0.53638629        nan 0.53638629\n",
            "        nan 0.53638629        nan 0.53638629        nan 0.53638629\n",
            "        nan 0.53638629        nan 0.53638629        nan 0.53638629\n",
            "        nan 0.53638629        nan 0.53638629        nan 0.53638629\n",
            "        nan 0.53638629        nan 0.53638629        nan 0.53638629\n",
            "        nan 0.53638629]\n",
            "  warnings.warn(\n",
            "/usr/local/lib/python3.9/dist-packages/sklearn/naive_bayes.py:629: FutureWarning: The default value for `force_alpha` will change to `True` in 1.4. To suppress this warning, manually set the value of `force_alpha`.\n",
            "  warnings.warn(\n",
            "/usr/local/lib/python3.9/dist-packages/sklearn/naive_bayes.py:635: UserWarning: alpha too small will result in numeric errors, setting alpha = 1.0e-10. Use `force_alpha=True` to keep alpha unchanged.\n",
            "  warnings.warn(\n"
          ]
        }
      ]
    },
    {
      "cell_type": "markdown",
      "source": [
        "#### Thử phương pháp Under Sampling để xử lý imbalance data."
      ],
      "metadata": {
        "id": "vlK5XFuDzKyc"
      }
    },
    {
      "cell_type": "markdown",
      "source": [
        "Như đã phân tích trước đó, đây là 1 tập dữ liệu có hiện tượng imbalance và việc dự đoán trên label thật sự không được tốt, vì vậy ta sẽ thử dùng phương pháp Under Sampling để xử lý lại data bằng cách giảm số mẫu của lớp chiếm đa số."
      ],
      "metadata": {
        "id": "G6bkdaIlnZTG"
      }
    },
    {
      "cell_type": "code",
      "source": [
        "from imblearn.under_sampling import AllKNN\n",
        "allknn = AllKNN(n_neighbors=3)\n",
        "\n",
        "X_train_res, y_train_res = allknn.fit_resample(trainX, trainY)"
      ],
      "metadata": {
        "id": "WzYHnVJK0RfZ"
      },
      "execution_count": 270,
      "outputs": []
    },
    {
      "cell_type": "code",
      "source": [
        "pca = PCA()\n",
        "gau_nb = GaussianNB()\n",
        "scaler = MinMaxScaler()\n",
        "pipe = Pipeline(steps=[(\"scaler\", scaler),(\"pca\", pca), (\"gau_nb\", gau_nb)])\n",
        "\n",
        "var_smoothing_values = np.linspace(0, 1, 100)\n",
        "'''scoring = {'F1_score': make_scorer(f1_score, pos_label=1)}'''\n",
        "\n",
        "param_grid = {\n",
        "    \"scaler__feature_range\": [(-1, 1), (0, 1)],\n",
        "    \"pca__n_components\": [1, 2, 3, 4, 5, 6, 7, 8, None],\n",
        "    'gau_nb__var_smoothing': var_smoothing_values\n",
        "    }\n",
        "\n",
        "search = GridSearchCV(pipe, param_grid, scoring='f1', n_jobs=2)\n",
        "search.fit(X_train_res, y_train_res)\n",
        "print(\"Best parameter (CV score=%0.3f):\" % search.best_score_)\n",
        "print(search.best_params_)\n",
        "predicted_label = search.predict(testX)\n",
        "print(classification_report(testY, predicted_label))"
      ],
      "metadata": {
        "colab": {
          "base_uri": "https://localhost:8080/"
        },
        "id": "lm2Uf6I7SzHO",
        "outputId": "af55f5d0-0952-49dc-96a9-5186ebf975c0"
      },
      "execution_count": 271,
      "outputs": [
        {
          "output_type": "stream",
          "name": "stdout",
          "text": [
            "Best parameter (CV score=0.698):\n",
            "{'gau_nb__var_smoothing': 0.0, 'pca__n_components': 7, 'scaler__feature_range': (-1, 1)}\n",
            "              precision    recall  f1-score   support\n",
            "\n",
            "           0       0.85      0.82      0.84       403\n",
            "           1       0.66      0.70      0.68       194\n",
            "\n",
            "    accuracy                           0.78       597\n",
            "   macro avg       0.75      0.76      0.76       597\n",
            "weighted avg       0.79      0.78      0.79       597\n",
            "\n"
          ]
        }
      ]
    },
    {
      "cell_type": "markdown",
      "source": [
        "Nhận xét: Khi dùng kỹ thuật under sampling để xử imbalance cho tập data thì độ đo Recall và F1-score trên label 1 đã được cải thiện nhưng độ chính xác khi dự đoán lại giảm xuống còn 0.66. Đồng thời Accuracy cũng giảm còn 0.78."
      ],
      "metadata": {
        "id": "i9r_auW_bDBE"
      }
    },
    {
      "cell_type": "markdown",
      "source": [
        "Tuy nhiên, theo như mục tiêu ban đầu là tối ưu hóa cả precision và recall cùng một lúc, thì ta sẽ chọn model có F1 score cao hơn, đó là model Gaussian cùng với data đã được xử lý imbalance (theo như thử nghiệm thì under sampling cùng với các model còn lại cũng chưa tìm ra kết quả cải thiện hơn). Kết quả của model này như sau:\n",
        "- Presicion: 0.66\n",
        "- Recall: 0.70\n",
        "- F1 score: 0.68\n",
        "- Accuracy: 0.78\n",
        "\n",
        "Đây chính là model có F1-score cao nhất từ đầu đến giờ, các tham số được tối ưu bằng GridSearchCV như sau: `{'gau_nb__var_smoothing': 0.0, 'pca__n_components': 7, 'scaler__feature_range': (-1, 1)}`"
      ],
      "metadata": {
        "id": "zx7q6kA-XNpF"
      }
    },
    {
      "cell_type": "markdown",
      "source": [
        "Ta quyết định sẽ chọn Model này làm Model cuối cùng để xử lý bài toán này."
      ],
      "metadata": {
        "id": "YMEs6LTOpcEb"
      }
    },
    {
      "cell_type": "markdown",
      "source": [
        "## Final - Include my best params"
      ],
      "metadata": {
        "id": "kwmcOwlPWI9b"
      }
    },
    {
      "cell_type": "code",
      "execution_count": 272,
      "outputs": [
        {
          "output_type": "stream",
          "name": "stdout",
          "text": [
            "Best parameter (CV score=0.698):\n",
            "{'gau_nb__var_smoothing': 0.0, 'pca__n_components': 7, 'scaler__feature_range': (-1, 1)}\n",
            "precision 0.6604938271604939\n",
            "recall 0.622093023255814\n",
            "accuracy 0.7410071942446043\n",
            "F1 0.6407185628742516\n",
            "Training performance: 0.6407185628742516\n",
            "\n",
            "precision 0.6570048309178744\n",
            "recall 0.7010309278350515\n",
            "accuracy 0.7839195979899497\n",
            "F1 0.6783042394014963\n",
            "Testing performance: 0.6783042394014963\n",
            "              precision    recall  f1-score   support\n",
            "\n",
            "           0       0.85      0.82      0.84       403\n",
            "           1       0.66      0.70      0.68       194\n",
            "\n",
            "    accuracy                           0.78       597\n",
            "   macro avg       0.75      0.76      0.76       597\n",
            "weighted avg       0.79      0.78      0.79       597\n",
            "\n"
          ]
        }
      ],
      "source": [
        "def build_model(X, y):\n",
        "    \"\"\"\n",
        "    Design your model and train it (including your best params)\n",
        "    :param X: feature matrix\n",
        "    :param y: target\n",
        "    :return: a model\n",
        "    \"\"\"\n",
        "    gau_nb = GaussianNB()\n",
        "    scaler = MinMaxScaler()\n",
        "    pca = PCA()\n",
        "    pipe = Pipeline(steps=[(\"scaler\", scaler),(\"pca\", pca), (\"gau_nb\", gau_nb)])\n",
        "\n",
        "    var_smoothing_values = np.linspace(0, 1, 100)\n",
        "\n",
        "    param_grid = {\n",
        "        \"scaler__feature_range\": [(-1, 1), (0, 1)],\n",
        "        \"pca__n_components\": [1, 2, 3, 4, 5, 6, 7, 8, None],\n",
        "        'gau_nb__var_smoothing': var_smoothing_values\n",
        "        }\n",
        "    \n",
        "    search = GridSearchCV(pipe, param_grid, scoring= 'f1', n_jobs=2)\n",
        "    search.fit(X, y)\n",
        "    print(\"Best parameter (CV score=%0.3f):\" % search.best_score_)\n",
        "    print(search.best_params_)\n",
        "    return search\n",
        "\n",
        "def calculate_performance(y_true, y_pred):\n",
        "    \"\"\"\n",
        "    :param y_true: ground truth values\n",
        "    :param y_pred: predictions\n",
        "    :return:\n",
        "    \"\"\"\n",
        "    print(\"precision\", precision_score(y_true , y_pred))\n",
        "    print(\"recall\",recall_score(y_true , y_pred) )\n",
        "    print(\"accuracy\", accuracy_score(y_true, y_pred))\n",
        "    print(\"F1\", f1_score(y_true , y_pred))\n",
        "\n",
        "    main_score = f1_score(y_true , y_pred)\n",
        "    return main_score\n",
        "\n",
        "model = build_model(X_train_res, y_train_res)\n",
        "\n",
        "# Compare on training dataset\n",
        "train_pred = model.predict(trainX)\n",
        "print(\"Training performance:\", calculate_performance(trainY, train_pred))\n",
        "print()\n",
        "# Compare on testing dataset\n",
        "test_pred = model.predict(testX)\n",
        "print(\"Testing performance:\", calculate_performance(testY, test_pred))\n",
        "print(classification_report(testY, test_pred))"
      ],
      "metadata": {
        "id": "lge0OhiI8Ko1",
        "colab": {
          "base_uri": "https://localhost:8080/"
        },
        "outputId": "341ae266-7334-4c3f-e170-609bda052fb8"
      }
    },
    {
      "cell_type": "code",
      "execution_count": 273,
      "outputs": [],
      "source": [
        "def get_conclusion():\n",
        "    return \"7.1. Để đánh giá model trong bài toán này, em đã sử dụng F1-score. Bởi vì em muốn tối ưu cả\" \\\n",
        "           \"Precision và Recall. Thông thường các bài toán về Marketing thì người ta sẽ luôn mong muốn\" \\\n",
        "           \"phủ được nhiều khách hàng tìm năng càng tốt, góp phần tăng doanh thu. Nhưng việc xác suất dự đoán đúng\"\\\n",
        "           \"một người nào đó thật sự có nhu cầu mua hàng cũng rất cần thiết. Bằng việc hạn chế được sai sót khi dự đoán\"\\\n",
        "           \"ta cũng có thể tiết kiệm được ngân sách cũng như nhân lực, không làm phiền đến khách hàng, làm ảnh hưởng đến thương hiệu\"\\\n",
        "           \"của công ty.\"\\\n",
        "           \"7.2. Bằng việc sử dụng GridSearchCV, ta cũng tìm ra các tham số tối ưu nhất cho model là: \"\\\n",
        "           \"'gau_nb__var_smoothing': 0.0, 'pca__n_components': 7, 'scaler__feature_range': (-1, 1)\"\\\n",
        "           \"Cũng như tham số n_neighbors=3 (tham số mặc định của AllKNN - Under Sampling)\""
      ],
      "metadata": {
        "id": "T0UDQCc48Ko1"
      }
    },
    {
      "cell_type": "markdown",
      "source": [
        "## Tài liệu tham khảo"
      ],
      "metadata": {
        "id": "dAtjzqDnj8BN"
      }
    },
    {
      "cell_type": "markdown",
      "source": [
        "Naive Bayes: https://scikit-learn.org/stable/modules/naive_bayes.html\n",
        "\n",
        "Under Sampling - AllKNN: https://imbalanced-learn.org/stable/references/generated/imblearn.under_sampling.AllKNN.html"
      ],
      "metadata": {
        "id": "DUc824YpkAqC"
      }
    }
  ],
  "metadata": {
    "kernelspec": {
      "display_name": "Python 3",
      "language": "python",
      "name": "python3"
    },
    "language_info": {
      "codemirror_mode": {
        "name": "ipython",
        "version": 2
      },
      "file_extension": ".py",
      "mimetype": "text/x-python",
      "name": "python",
      "nbconvert_exporter": "python",
      "pygments_lexer": "ipython2",
      "version": "2.7.6"
    },
    "colab": {
      "provenance": []
    }
  },
  "nbformat": 4,
  "nbformat_minor": 0
}